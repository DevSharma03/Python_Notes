{
 "cells": [
  {
   "cell_type": "markdown",
   "metadata": {},
   "source": [
    "# Map Function\n",
    "- map() -transforming data \n",
    "- Applies a function to every item in an iterable (like a list) and returns a new iterable (map object).\n",
    "- Syntax: map(function, interable)"
   ]
  },
  {
   "cell_type": "code",
   "execution_count": 2,
   "metadata": {},
   "outputs": [
    {
     "name": "stdout",
     "output_type": "stream",
     "text": [
      "[1, 4, 9, 16]\n",
      "[1, 4, 9, 16]\n"
     ]
    }
   ],
   "source": [
    "# Example\n",
    "def square(n):\n",
    "    return n * n\n",
    "\n",
    "nums = [1, 2, 3, 4]\n",
    "squares = map(square, nums)\n",
    "print(list(squares))\n",
    "\n",
    "# Equivalent using lambda\n",
    "print(list(map(lambda x: x * x, nums)))\n"
   ]
  },
  {
   "cell_type": "markdown",
   "metadata": {},
   "source": [
    "# Filter Function\n",
    "- fiter() - filturing data\n",
    "- Applies a function that returns True or False, and keeps only those items where the function returns True.\n",
    "- Syntax: filter(function, iterable)"
   ]
  },
  {
   "cell_type": "code",
   "execution_count": 4,
   "metadata": {},
   "outputs": [
    {
     "name": "stdout",
     "output_type": "stream",
     "text": [
      "[2, 4, 6]\n",
      "[2, 4, 6]\n"
     ]
    }
   ],
   "source": [
    "def is_even(n):\n",
    "    return n % 2 == 0\n",
    "\n",
    "nums = [1, 2, 3, 4, 5, 6]\n",
    "even_nums = filter(is_even, nums)\n",
    "print(list(even_nums))\n",
    "\n",
    "# With lambda Function\n",
    "print(list(filter(lambda x: x % 2 == 0, nums)))"
   ]
  },
  {
   "cell_type": "markdown",
   "metadata": {},
   "source": [
    "# Reduce Function\n",
    "- reduce() - reducing to single value.\n",
    "- it comes from the functools module\n",
    "- Applies a function cumulatively to the items of a sequence, reducing the sequence to a single value.\n",
    "- Syntax: from functools import reduce\n",
    "           reduce(function, iterable)\n"
   ]
  },
  {
   "cell_type": "code",
   "execution_count": 7,
   "metadata": {},
   "outputs": [
    {
     "name": "stdout",
     "output_type": "stream",
     "text": [
      "24\n",
      "24\n"
     ]
    }
   ],
   "source": [
    "from functools import reduce\n",
    "\n",
    "def multiply(x, y):\n",
    "    return x * y\n",
    "\n",
    "nums = [1, 2, 3, 4]\n",
    "result = reduce(multiply, nums) # here we are calculating the product of all the items in the list\n",
    "print(result)\n",
    "\n",
    "# With Lambda Function\n",
    "print(reduce(lambda x, y: x * y, nums))"
   ]
  },
  {
   "cell_type": "code",
   "execution_count": 10,
   "metadata": {},
   "outputs": [
    {
     "name": "stdout",
     "output_type": "stream",
     "text": [
      "[32.0, 50.0, 68.0, 86.0]\n",
      "['a@mail.com', 'valid@mail.com']\n",
      "400\n"
     ]
    }
   ],
   "source": [
    "# Real World Examples\n",
    "# 1. Convert temperatures from Celsius to Fahrenheit:\n",
    "celsius = [0, 10, 20, 30]\n",
    "fahrenheit = list(map(lambda c: (c * 9/5) + 32, celsius))\n",
    "print(fahrenheit)\n",
    "\n",
    "# 2. Filter out invalid emails:\n",
    "emails = [\"a@mail.com\", \"b#bad.com\", \"valid@mail.com\"]\n",
    "valid = list(filter(lambda e: \"@\" in e, emails))\n",
    "print(valid)\n",
    "\n",
    "# 3. Total price from cart:\n",
    "cart = [100, 250, 50]\n",
    "total = reduce(lambda x, y: x + y, cart)\n",
    "print(total)\n"
   ]
  }
 ],
 "metadata": {
  "kernelspec": {
   "display_name": "Python 3",
   "language": "python",
   "name": "python3"
  },
  "language_info": {
   "codemirror_mode": {
    "name": "ipython",
    "version": 3
   },
   "file_extension": ".py",
   "mimetype": "text/x-python",
   "name": "python",
   "nbconvert_exporter": "python",
   "pygments_lexer": "ipython3",
   "version": "3.13.3"
  }
 },
 "nbformat": 4,
 "nbformat_minor": 2
}
