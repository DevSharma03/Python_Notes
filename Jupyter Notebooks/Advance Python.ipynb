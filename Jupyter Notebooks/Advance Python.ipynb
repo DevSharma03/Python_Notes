{
 "cells": [
  {
   "cell_type": "markdown",
   "metadata": {},
   "source": [
    "# Iterators\n",
    "- An iterator is an object that allows you to traverse through all the elements of a collection (like lists, tuples, etc.) one at a time without needing to know the underlying structure.\n",
    "\n",
    "### Iterator Protocol\n",
    "- (__iter__()) returns the iterator object itself.\n",
    "- (__next__()) returns the next value from the container. If no more elements, it raises StopIteration"
   ]
  },
  {
   "cell_type": "code",
   "execution_count": 2,
   "metadata": {},
   "outputs": [
    {
     "name": "stdout",
     "output_type": "stream",
     "text": [
      "1\n",
      "2\n",
      "3\n"
     ]
    },
    {
     "ename": "StopIteration",
     "evalue": "",
     "output_type": "error",
     "traceback": [
      "\u001b[31m---------------------------------------------------------------------------\u001b[39m",
      "\u001b[31mStopIteration\u001b[39m                             Traceback (most recent call last)",
      "\u001b[36mCell\u001b[39m\u001b[36m \u001b[39m\u001b[32mIn[2]\u001b[39m\u001b[32m, line 11\u001b[39m\n\u001b[32m      9\u001b[39m \u001b[38;5;28mprint\u001b[39m(\u001b[38;5;28mnext\u001b[39m(it))        \u001b[38;5;66;03m# Output: 2\u001b[39;00m\n\u001b[32m     10\u001b[39m \u001b[38;5;28mprint\u001b[39m(\u001b[38;5;28mnext\u001b[39m(it))        \u001b[38;5;66;03m# Output: 3\u001b[39;00m\n\u001b[32m---> \u001b[39m\u001b[32m11\u001b[39m \u001b[38;5;28mprint\u001b[39m(\u001b[38;5;28;43mnext\u001b[39;49m\u001b[43m(\u001b[49m\u001b[43mit\u001b[49m\u001b[43m)\u001b[49m)        \u001b[38;5;66;03m# Raises StopIteration\u001b[39;00m\n",
      "\u001b[31mStopIteration\u001b[39m: "
     ]
    }
   ],
   "source": [
    "# Iterable vs Iterator\n",
    "# 1. Iterable: An object capable of returning its members one at a time (e.g., list, tuple, string). Must implement __iter__() method.\n",
    "# 2. Iterator: An object with a __next__() method that returns the next element and __iter__() that returns itself.\n",
    "\n",
    "lst = [1, 2, 3]\n",
    "it = iter(lst)         # Converts list into iterator\n",
    "\n",
    "print(next(it))        # Output: 1\n",
    "print(next(it))        # Output: 2\n",
    "print(next(it))        # Output: 3\n",
    "print(next(it))        # Raises StopIteration"
   ]
  },
  {
   "cell_type": "code",
   "execution_count": 4,
   "metadata": {},
   "outputs": [
    {
     "name": "stdout",
     "output_type": "stream",
     "text": [
      "1\n",
      "2\n",
      "3\n",
      "4\n",
      "5\n"
     ]
    }
   ],
   "source": [
    "# Creating a Custom Iterator Class\n",
    "class CountUpTo:\n",
    "    def __init__(self, max):\n",
    "        self.max = max\n",
    "        self.num = 1\n",
    "\n",
    "    def __iter__(self):\n",
    "        return self  # returns iterator object (self)\n",
    "\n",
    "    def __next__(self):\n",
    "        if self.num <= self.max:\n",
    "            val = self.num\n",
    "            self.num += 1\n",
    "            return val\n",
    "        else:\n",
    "            raise StopIteration\n",
    "\n",
    "counter = CountUpTo(5)\n",
    "for number in counter:\n",
    "    print(number)"
   ]
  },
  {
   "cell_type": "code",
   "execution_count": 5,
   "metadata": {},
   "outputs": [
    {
     "name": "stdout",
     "output_type": "stream",
     "text": [
      "10\n",
      "20\n",
      "30\n"
     ]
    },
    {
     "ename": "StopIteration",
     "evalue": "",
     "output_type": "error",
     "traceback": [
      "\u001b[31m---------------------------------------------------------------------------\u001b[39m",
      "\u001b[31mStopIteration\u001b[39m                             Traceback (most recent call last)",
      "\u001b[36mCell\u001b[39m\u001b[36m \u001b[39m\u001b[32mIn[5]\u001b[39m\u001b[32m, line 6\u001b[39m\n\u001b[32m      4\u001b[39m \u001b[38;5;28mprint\u001b[39m(\u001b[38;5;28mnext\u001b[39m(it))   \u001b[38;5;66;03m# 20\u001b[39;00m\n\u001b[32m      5\u001b[39m \u001b[38;5;28mprint\u001b[39m(\u001b[38;5;28mnext\u001b[39m(it))   \u001b[38;5;66;03m# 30\u001b[39;00m\n\u001b[32m----> \u001b[39m\u001b[32m6\u001b[39m \u001b[38;5;28mprint\u001b[39m(\u001b[38;5;28;43mnext\u001b[39;49m\u001b[43m(\u001b[49m\u001b[43mit\u001b[49m\u001b[43m)\u001b[49m)   \u001b[38;5;66;03m# Raises StopIteration\u001b[39;00m\n",
      "\u001b[31mStopIteration\u001b[39m: "
     ]
    }
   ],
   "source": [
    "# Iterating Manually Using next()\n",
    "it = iter([10, 20, 30])\n",
    "print(next(it))   # 10\n",
    "print(next(it))   # 20\n",
    "print(next(it))   # 30\n",
    "print(next(it))   # Raises StopIteration"
   ]
  },
  {
   "cell_type": "code",
   "execution_count": 6,
   "metadata": {},
   "outputs": [
    {
     "name": "stdout",
     "output_type": "stream",
     "text": [
      "1\n",
      "2\n",
      "3\n"
     ]
    }
   ],
   "source": [
    "# Behind the Scenes of for Loop\n",
    "lst = [1, 2, 3]\n",
    "it = iter(lst)\n",
    "while True:\n",
    "    try:\n",
    "        item = next(it)\n",
    "        print(item)\n",
    "    except StopIteration:\n",
    "        break"
   ]
  },
  {
   "cell_type": "markdown",
   "metadata": {},
   "source": [
    "# Generator \n",
    "- A generator is a special type of iterator that allows you to iterate through data lazily (one item at a time, only when needed), using the yield keyword instead of return.\n",
    "- Generators are memory-efficient and pause & resume function execution."
   ]
  },
  {
   "cell_type": "code",
   "execution_count": 7,
   "metadata": {},
   "outputs": [
    {
     "name": "stdout",
     "output_type": "stream",
     "text": [
      "1\n",
      "2\n",
      "3\n"
     ]
    }
   ],
   "source": [
    "def simple_gen():\n",
    "    yield 1\n",
    "    yield 2\n",
    "    yield 3\n",
    "\n",
    "for val in simple_gen():\n",
    "    print(val)"
   ]
  },
  {
   "cell_type": "code",
   "execution_count": 11,
   "metadata": {},
   "outputs": [
    {
     "name": "stdout",
     "output_type": "stream",
     "text": [
      "1\n",
      "2\n",
      "3\n"
     ]
    }
   ],
   "source": [
    "# How Generator Works Internally\n",
    "# Each time you call next() on a generator, the function runs until it hits the next yield, then pauses and remembers its state.\n",
    "def count_up_to(n):\n",
    "    count = 1\n",
    "    while count <= n:\n",
    "        yield count\n",
    "        count += 1\n",
    "\n",
    "counter = count_up_to(3)\n",
    "print(next(counter))  # 1\n",
    "print(next(counter))  # 2\n",
    "print(next(counter))  # 3\n",
    "# print(next(counter))  # StopIteration ( It thows an error )"
   ]
  },
  {
   "cell_type": "code",
   "execution_count": 15,
   "metadata": {},
   "outputs": [
    {
     "name": "stdout",
     "output_type": "stream",
     "text": [
      "0\n",
      "1\n",
      "4\n",
      "9\n",
      "16\n"
     ]
    },
    {
     "ename": "StopIteration",
     "evalue": "",
     "output_type": "error",
     "traceback": [
      "\u001b[31m---------------------------------------------------------------------------\u001b[39m",
      "\u001b[31mStopIteration\u001b[39m                             Traceback (most recent call last)",
      "\u001b[36mCell\u001b[39m\u001b[36m \u001b[39m\u001b[32mIn[15]\u001b[39m\u001b[32m, line 10\u001b[39m\n\u001b[32m      8\u001b[39m \u001b[38;5;28mprint\u001b[39m(\u001b[38;5;28mnext\u001b[39m(gen))\n\u001b[32m      9\u001b[39m \u001b[38;5;28mprint\u001b[39m(\u001b[38;5;28mnext\u001b[39m(gen))\n\u001b[32m---> \u001b[39m\u001b[32m10\u001b[39m \u001b[38;5;28mprint\u001b[39m(\u001b[38;5;28;43mnext\u001b[39;49m\u001b[43m(\u001b[49m\u001b[43mgen\u001b[49m\u001b[43m)\u001b[49m)\n",
      "\u001b[31mStopIteration\u001b[39m: "
     ]
    }
   ],
   "source": [
    "# Generator Expressions\n",
    "# Generator expression\n",
    "gen = (x*x for x in range(5))\n",
    "\n",
    "print(next(gen))  # 0\n",
    "print(next(gen))  # 1\n",
    "print(next(gen))\n",
    "print(next(gen))\n",
    "print(next(gen))\n",
    "print(next(gen))  # here it ended so thats why it showing me error "
   ]
  },
  {
   "cell_type": "code",
   "execution_count": 23,
   "metadata": {},
   "outputs": [
    {
     "name": "stdout",
     "output_type": "stream",
     "text": [
      "[0, 1, 4, 9, 16, 25, 36, 49, 64, 81]\n",
      "0\n",
      "1\n",
      "4\n",
      "9\n"
     ]
    }
   ],
   "source": [
    "# Comperasition of List Comprehension and generator expression \n",
    "# List comprehension (loads entire list in memory)\n",
    "lst = [x*x for x in range(10)]\n",
    "print(lst)\n",
    "\n",
    "# Generator (one at a time)\n",
    "gen = (x*x for x in range(1000000))   # here we can use the amout of data is needed only.\n",
    "print(next(gen))\n",
    "print(next(gen))\n",
    "print(next(gen))\n",
    "print(next(gen))"
   ]
  },
  {
   "cell_type": "markdown",
   "metadata": {},
   "source": [
    "# Partial Functions (from functools.partial)\n",
    "- A partial function is a new function with some arguments of the original function fixed.\n",
    "It’s created using the functools.partial() method."
   ]
  },
  {
   "cell_type": "code",
   "execution_count": 4,
   "metadata": {},
   "outputs": [
    {
     "name": "stdout",
     "output_type": "stream",
     "text": [
      "25\n",
      "10\n"
     ]
    }
   ],
   "source": [
    "from functools import partial\n",
    "\n",
    "def power(base, exponent):\n",
    "    return base ** exponent\n",
    "\n",
    "# Create a new function where exponent is fixed to 2\n",
    "square = partial(power, exponent=2)\n",
    "print(square(5))  # Output: 25\n",
    "\n",
    "\n",
    "int_base2 = partial(int, base=2)\n",
    "print(int_base2('1010'))"
   ]
  },
  {
   "cell_type": "markdown",
   "metadata": {},
   "source": [
    "# Curring\n",
    "- Currying is the process of converting a function that takes multiple arguments into a series of functions that take one argument at a time.\n",
    "- Python doesn’t have built-in currying like functional languages, but you can implement it manually or with nested functions."
   ]
  },
  {
   "cell_type": "code",
   "execution_count": 7,
   "metadata": {},
   "outputs": [
    {
     "name": "stdout",
     "output_type": "stream",
     "text": [
      "8\n",
      "5\n"
     ]
    }
   ],
   "source": [
    "# Manual Currying Example\n",
    "def add(x):\n",
    "    def inner(y):\n",
    "        return x + y\n",
    "    return inner\n",
    "add5 = add(5)\n",
    "print(add5(3))  # Output: 8\n",
    "\n",
    "# Curring with Lambda Function\n",
    "add = lambda x: (lambda y: x + y)\n",
    "print(add(2)(3))  # Output: 5\n"
   ]
  },
  {
   "cell_type": "markdown",
   "metadata": {},
   "source": [
    "# MEMORY MANAGEMENT"
   ]
  },
  {
   "cell_type": "markdown",
   "metadata": {},
   "source": [
    "### Reference Counting\n",
    "- Python keeps track of the number of references pointing to an object in memory.\n",
    "- When the reference count drops to 0, the object is immediately deallocated."
   ]
  },
  {
   "cell_type": "code",
   "execution_count": 11,
   "metadata": {},
   "outputs": [
    {
     "name": "stdout",
     "output_type": "stream",
     "text": [
      "3\n",
      "2\n"
     ]
    }
   ],
   "source": [
    "import sys\n",
    "\n",
    "a = []       # a points to list\n",
    "b = a        # b also points to the same list\n",
    "print(sys.getrefcount(a))  # 3 (a, b, getrefcount arg) {sys.getrefcount(obj) returns the reference count (add +1 because it's passed as an argument).}\n",
    "\n",
    "del a\n",
    "print(sys.getrefcount(b))  # 2"
   ]
  },
  {
   "cell_type": "markdown",
   "metadata": {},
   "source": [
    "###  Garbage Collection\n",
    "-  Why is GC needed if we have reference counting?\n",
    "- Because cyclic references can't be handled by reference counting alone."
   ]
  },
  {
   "cell_type": "code",
   "execution_count": 14,
   "metadata": {},
   "outputs": [
    {
     "name": "stdout",
     "output_type": "stream",
     "text": [
      "<__main__.Node object at 0x000001DBC8AE46E0>\n"
     ]
    }
   ],
   "source": [
    "# Example of an cyclic counting\n",
    "class Node:\n",
    "    def __init__(self):\n",
    "        self.ref = self\n",
    "\n",
    "n = Node()\n",
    "print(n)\n",
    "del n\n",
    "# print(n) it will throw an error as i have deleted the variable"
   ]
  },
  {
   "cell_type": "markdown",
   "metadata": {},
   "source": [
    "### Python’s gc (Garbage Collector) handles such cycles."
   ]
  },
  {
   "cell_type": "markdown",
   "metadata": {},
   "source": [
    "- | Tool/Function                  | Purpose                                 |\n",
    "- | --------------------------- | ---------------------------------- |\n",
    "- | `sys.getsizeof(obj)`           | Size (in bytes) of object               |\n",
    "- | `sys.getrefcount(obj)`         | Reference count of object               |\n",
    "- | `gc.collect()`                 | Manually trigger garbage collection (Forces garbage collection immediately)    |\n",
    "- | `gc.get_count()`               | Return current counts of GC generations (Returns count of tracked objects for 3 generations) |\n",
    "- | `gc.set_threshold()` gc.set_threshold(threshold0, threshold1, threshold2)    | Control collection frequency   Set when collection happens for each generation         |\n",
    "- | `gc.get_objects()`             | Inspect tracked objects (Returns a list of all objects tracked by the GC)                 |\n",
    "- | `gc.disable()` / `gc.enable()` | Turn GC off/on                          |\n"
   ]
  },
  {
   "cell_type": "code",
   "execution_count": 23,
   "metadata": {},
   "outputs": [
    {
     "name": "stdout",
     "output_type": "stream",
     "text": [
      "Deleted: Node1\n",
      "Deleted: Node2\n",
      "Unreachable objects: 8\n",
      "Garbage objects: []\n"
     ]
    }
   ],
   "source": [
    "import gc\n",
    "\n",
    "class Node:\n",
    "    def __init__(self, name):\n",
    "        self.name = name\n",
    "        self.ref = None\n",
    "\n",
    "    def __del__(self):\n",
    "        print(f\"Deleted: {self.name}\")\n",
    "\n",
    "# Enable debug to watch GC\n",
    "gc.set_debug(gc.DEBUG_UNCOLLECTABLE)\n",
    "\n",
    "# Create two nodes with circular reference\n",
    "n1 = Node(\"Node1\")\n",
    "n2 = Node(\"Node2\")\n",
    "n1.ref = n2\n",
    "n2.ref = n1\n",
    "\n",
    "# Remove external references\n",
    "n1 = None\n",
    "n2 = None\n",
    "\n",
    "# Force garbage collection\n",
    "unreachable = gc.collect()\n",
    "\n",
    "print(f\"Unreachable objects: {unreachable}\")\n",
    "print(f\"Garbage objects: {gc.garbage}\")\n"
   ]
  },
  {
   "cell_type": "code",
   "execution_count": 25,
   "metadata": {},
   "outputs": [
    {
     "name": "stdout",
     "output_type": "stream",
     "text": [
      "Graph written to C:\\Users\\Dev\\AppData\\Local\\Temp\\objgraph-qacnd1pn.dot (24 nodes)\n",
      "Image renderer (dot) not found, not doing anything else\n"
     ]
    }
   ],
   "source": [
    "import objgraph\n",
    "\n",
    "class A:\n",
    "    def __init__(self):\n",
    "        self.other = None\n",
    "\n",
    "a = A()\n",
    "b = A()\n",
    "a.other = b\n",
    "b.other = a\n",
    "\n",
    "objgraph.show_backrefs([a], filename='circular_ref.png')"
   ]
  },
  {
   "cell_type": "markdown",
   "metadata": {},
   "source": [
    "### sys.getsizeof() — Check Size of an Object"
   ]
  },
  {
   "cell_type": "code",
   "execution_count": 31,
   "metadata": {},
   "outputs": [
    {
     "name": "stdout",
     "output_type": "stream",
     "text": [
      "72\n"
     ]
    }
   ],
   "source": [
    "import sys\n",
    "\n",
    "a = \"Hello, this is Devashish Sharma\"\n",
    "print(sys.getsizeof(a))  "
   ]
  }
 ],
 "metadata": {
  "kernelspec": {
   "display_name": "Python 3",
   "language": "python",
   "name": "python3"
  },
  "language_info": {
   "codemirror_mode": {
    "name": "ipython",
    "version": 3
   },
   "file_extension": ".py",
   "mimetype": "text/x-python",
   "name": "python",
   "nbconvert_exporter": "python",
   "pygments_lexer": "ipython3",
   "version": "3.13.3"
  }
 },
 "nbformat": 4,
 "nbformat_minor": 2
}
