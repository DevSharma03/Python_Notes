{
 "cells": [
  {
   "cell_type": "markdown",
   "metadata": {},
   "source": [
    "# Basics "
   ]
  },
  {
   "cell_type": "code",
   "execution_count": 8,
   "metadata": {},
   "outputs": [
    {
     "name": "stdout",
     "output_type": "stream",
     "text": [
      "Hello World\n",
      "dev\n",
      "40\n",
      "<class 'str'>\n",
      "<class 'int'>\n"
     ]
    }
   ],
   "source": [
    "print(\"Hello World\");\n",
    "a = \"dev\";\n",
    "b = 40;\n",
    "print(a);\n",
    "print(b);\n",
    "print(type(a));\n",
    "print(type(b));"
   ]
  },
  {
   "cell_type": "code",
   "execution_count": 3,
   "metadata": {},
   "outputs": [
    {
     "name": "stdout",
     "output_type": "stream",
     "text": [
      "15 -5 50 0.5\n"
     ]
    }
   ],
   "source": [
    "a = 5;\n",
    "b = 10;\n",
    "c = a + b;\n",
    "d = a - b;\n",
    "e = a * b;\n",
    "f = a / b;\n",
    "print(c, d, e, f);"
   ]
  },
  {
   "cell_type": "code",
   "execution_count": null,
   "metadata": {},
   "outputs": [],
   "source": [
    "a = input(\"Enter a Number 1:\") # 5\n",
    "print(a);\n",
    "c = input(\"Enter a Number 2:\") # 10\n",
    "print(c);\n",
    "b = type(a);\n",
    "print(b);\n",
    "d = a + c;\n",
    "print(d);  # the result will be 510 as tge inputs are strings "
   ]
  },
  {
   "cell_type": "code",
   "execution_count": null,
   "metadata": {},
   "outputs": [],
   "source": [
    "a = int(input(\"Enter a Number 1:\")) # 5\n",
    "print(a);\n",
    "c = int(input(\"Enter a Number 2:\")) # 10\n",
    "print(c);\n",
    "b = type(a);\n",
    "print(b);\n",
    "d = a + c;\n",
    "print(d);  # the result will be 15 as tge inputs are integer "
   ]
  },
  {
   "cell_type": "code",
   "execution_count": 2,
   "metadata": {},
   "outputs": [
    {
     "name": "stdout",
     "output_type": "stream",
     "text": [
      "Adult\n",
      "10\n"
     ]
    }
   ],
   "source": [
    "# syntax: value_if_true if condition else value_if_false\n",
    "age = 20\n",
    "status = \"Adult\" if age >= 18 else \"Minor\"\n",
    "print(status)\n",
    "\n",
    "a, b = 5, 10\n",
    "maximum = a if a > b else b\n",
    "print(maximum) "
   ]
  },
  {
   "cell_type": "markdown",
   "metadata": {},
   "source": [
    "# String Manipulation "
   ]
  },
  {
   "cell_type": "code",
   "execution_count": 63,
   "metadata": {},
   "outputs": [
    {
     "name": "stdout",
     "output_type": "stream",
     "text": [
      "Hello I Am Devashish Sharma\n",
      "Hello I Am Deva\n",
      "\n"
     ]
    }
   ],
   "source": [
    "Str = \"Hello I Am Devashish Sharma\"; # here index starts with 0 as H at 0 index and then go on in positive way\n",
    "print(Str);\n",
    "\n",
    "slice_Str = Str[0: 15]  # slicing the string with index\n",
    "print(slice_Str);"
   ]
  },
  {
   "cell_type": "code",
   "execution_count": 61,
   "metadata": {},
   "outputs": [
    {
     "name": "stdout",
     "output_type": "stream",
     "text": [
      "eva\n",
      "Dev\n",
      "ashish Sharma\n",
      "amrahS hsihsaveD\n"
     ]
    }
   ],
   "source": [
    "# String Slicing\n",
    "s = \"Devashish Sharma\"\n",
    "\n",
    "# Retrieves characters from index 1 to 3\n",
    "print(s[1:4])  \n",
    "\n",
    "# Retrieves characters from beginning to index 2\n",
    "print(s[:3])   \n",
    "\n",
    "# Retrieves characters from index 3 to the end\n",
    "print(s[3:])   \n",
    "\n",
    "# Reverse a string\n",
    "print(s[::-1])"
   ]
  },
  {
   "cell_type": "code",
   "execution_count": 72,
   "metadata": {},
   "outputs": [
    {
     "name": "stdout",
     "output_type": "stream",
     "text": [
      "27\n",
      "HELLO I AM DEVASHISH SHARMA\n",
      "hello i am devashish sharma\n",
      "Hello i am devashish sharma\n",
      "6\n",
      "8\n",
      "Hello I Am Shivani Sharma\n",
      "Hello I Am Devashish Sharma\n",
      "Hello I Am Devashish Sharma\n",
      "['Hello', 'I', 'Am', 'Devashish', 'Sharma']\n",
      "['Hello I ', ' Devashish Sharma']\n",
      "Hello I am Devashish Sharma\n",
      "True\n",
      "True\n",
      "3\n"
     ]
    }
   ],
   "source": [
    "# Srting Methods \n",
    "\n",
    "a = len(Str); # Length of the string\n",
    "print(a);\n",
    "\n",
    "print(Str.upper())  # Convert the srting into upper case\n",
    "print(Str.lower()) # Convert the string into lower case\n",
    "print(Str.capitalize())  # Convert the first char into uppercase\n",
    "print(Str.find(\"I\"))   # use to find the index of the charactor\n",
    "print(Str.find(\"Am\"))  # use to find the index of the charactor\n",
    "print(Str.replace(\"Devashish\", \"Shivani\"))  # Use to replace anything from the string\n",
    "print(Str.strip())  # use to remove the spaces from the string\n",
    "print(Str.title())  # use to convert the first charactor of each word to uppercase \n",
    "print(Str.split(\" \"))  # use to split the string into list \n",
    "print(Str.split(\"Am\"))  # use to split the string into list \n",
    "\n",
    "print(\" \".join([\"Hello\", \"I\", \"am\", \"Devashish Sharma\"]))  # use to joint elements of an iterable into a single string using the string as seperator\n",
    "\n",
    "print(Str.startswith(\"Hello\"))   # use to check if the string starts with the given word or not\n",
    "print(Str.endswith(\"Sharma\"))    # use to check if the string ends with the given word or not \n",
    "print(Str.count(\"a\"))   # use to count the number of occuring time of the charactor or word"
   ]
  },
  {
   "cell_type": "code",
   "execution_count": 73,
   "metadata": {},
   "outputs": [
    {
     "name": "stdout",
     "output_type": "stream",
     "text": [
      "Name: Devashish Sharma, Age: 21\n"
     ]
    }
   ],
   "source": [
    "# String Formating\n",
    "name = \"Devashish Sharma\"\n",
    "age = 21\n",
    "print(f\"Name: {name}, Age: {age}\") # A way to format string and is commonly used to print the important data from variables (f-string)\n",
    "\n",
    "str = \"My name is is {} and I am {} year old\".format(\"Dev\", 21)  # .format() method to write or format the srting"
   ]
  },
  {
   "cell_type": "markdown",
   "metadata": {},
   "source": [
    "# List"
   ]
  },
  {
   "cell_type": "code",
   "execution_count": 9,
   "metadata": {},
   "outputs": [
    {
     "name": "stdout",
     "output_type": "stream",
     "text": [
      "[1, 2, 'Dev', 'Shivani', False]\n",
      "1\n",
      "False\n",
      "Dev\n",
      "Shivani\n",
      "[1, 2, 'Dev', 'Shivani']\n",
      "[]\n",
      "[1, 2, 'Dev', 'Shivani', False, 6, 10, 'Hello', True]\n",
      "[1, 2, 'Dev', 'Shivani', False, 1, 2, 'Dev', 'Shivani', False]\n",
      "True\n",
      "False\n",
      "5\n",
      "4\n",
      "<class 'int'>\n",
      "<class 'str'>\n",
      "<class 'bool'>\n"
     ]
    }
   ],
   "source": [
    "L1 = [1, 2, \"Dev\", \"Shivani\", False];\n",
    "L2 = [6, 10, \"Hello\", True];\n",
    "print(L1)\n",
    "\n",
    "print(L1[0]);\n",
    "print(L1[4]);\n",
    "print(L1[2]);\n",
    "print(L1[3]);\n",
    "print(L1[0:4]);\n",
    "print(L1[0:4:-1]);\n",
    "\n",
    "print(L1 + L2);\n",
    "print(L1 * 2);\n",
    "print(2 in L1);\n",
    "print(5 in L1);\n",
    "\n",
    "print(len(L1));\n",
    "print(len(L2));\n",
    "\n",
    "print(type(L1[0]));\n",
    "print(type(L1[2]));\n",
    "print(type(L1[4]));"
   ]
  },
  {
   "cell_type": "code",
   "execution_count": 10,
   "metadata": {},
   "outputs": [
    {
     "name": "stdout",
     "output_type": "stream",
     "text": [
      "[5, 9, 2, 17, 6]\n",
      "[2, 5, 6, 9, 17]\n",
      "[17, 9, 6, 5, 2]\n",
      "[2, 5, 6, 9, 17]\n",
      "[2, 5, 6, 9, 17]\n"
     ]
    }
   ],
   "source": [
    "list = [5, 9, 2, 17, 6];\n",
    "print(list);\n",
    "\n",
    "list.sort();  # sort the list in order (ascending order)\n",
    "print(list);\n",
    "\n",
    "list.sort(reverse=True)  # sort the list in descending order\n",
    "print(list);\n",
    "\n",
    "list.reverse() # sort the list in reverse order \n",
    "print(list);\n",
    "\n",
    "a = list.copy();\n",
    "print(a);"
   ]
  },
  {
   "cell_type": "code",
   "execution_count": 66,
   "metadata": {},
   "outputs": [
    {
     "name": "stdout",
     "output_type": "stream",
     "text": [
      "[1, 2, 'Dev', 'Shivani', False]\n",
      "[1, 2, 'Dev', 'Shivani', False, 'King']\n",
      "[1, 2, 'Dev', 10, 'Shivani', False, 'King']\n",
      "[1, 2, 'Dev', 10, 'Shivani', False, 'King', 5, 7, 15]\n",
      "[1, 2, 'Dev', 10, 'Shivani', False, 'King', 5, 7]\n",
      "[1, 2, 10, 'Shivani', False, 'King', 5, 7]\n",
      "[1, 2, 'Shivani', False, 'King', 5, 7]\n",
      "1\n",
      "[]\n"
     ]
    }
   ],
   "source": [
    "L1= [1, 2, \"Dev\", \"Shivani\", False];\n",
    "print(L1);\n",
    "\n",
    "L1.append(\"King\");  # use to add the element at the end of the list \n",
    "print(L1);\n",
    "\n",
    "L1.insert(3, 10);  # use to add the element at the specific index as here the index is 3 and the element is 10\n",
    "print(L1);\n",
    "\n",
    "L1.extend([5, 7, 15]);  # use to add multiple elements / items in the list\n",
    "print(L1);\n",
    "\n",
    "L1.pop();  # use to pop the last element of the lsit\n",
    "print(L1);\n",
    "\n",
    "L1.pop(2);  # use to pop the element at the given index as here is 2 \n",
    "print(L1);\n",
    "\n",
    "L1.remove(10)  # use to pop the element by its name as here is 10\n",
    "print(L1);\n",
    "\n",
    "print(L1.count(2));  # use to check how many times 15 occuered in the list\n",
    "\n",
    "L1.clear();   # use to clear the list \n",
    "print(L1);"
   ]
  },
  {
   "cell_type": "code",
   "execution_count": 1,
   "metadata": {},
   "outputs": [
    {
     "name": "stdout",
     "output_type": "stream",
     "text": [
      "[0, 1, 2, 3, 4]\n",
      "[0, 1, 2, 3, 4]\n"
     ]
    }
   ],
   "source": [
    "# List Comprehension \n",
    "# Syntax: [expression for item in iterable]\n",
    "# This is equivalent to:\n",
    "# result = []\n",
    "# for item in iterable:\n",
    "#    result.append(expression)\n",
    "\n",
    "# Without list comprehension\n",
    "squares1 = []\n",
    "for i in range(5):\n",
    "    squares1.append(i)\n",
    "print(squares1) \n",
    "\n",
    "# With list comprehension\n",
    "squares = [i for i in range(5)]\n",
    "print(squares)"
   ]
  },
  {
   "cell_type": "code",
   "execution_count": 9,
   "metadata": {},
   "outputs": [
    {
     "name": "stdout",
     "output_type": "stream",
     "text": [
      "[0, 2, 4, 6, 8, 10, 12, 14, 16, 18, 20, 22, 24, 26, 28, 30, 32, 34, 36, 38, 40, 42, 44, 46, 48]\n",
      "['even', 'Odd', 'even', 'Odd', 'even']\n",
      "[[1, 2, 3], [2, 4, 6], [3, 6, 9]]\n",
      "[1, 2, 3, 4, 5, 6]\n",
      "['P', 'y', 't', 'h', 'o', 'n']\n",
      "['H', 'e', 'l', 'l', 'o', 'W', 'o', 'r', 'l', 'd']\n"
     ]
    }
   ],
   "source": [
    "# List comprehension with condition(if)\n",
    "even_number = [x for x in range(50) if x%2==0]\n",
    "print(even_number)\n",
    "\n",
    "# List comprehension with if-else\n",
    "label = [\"even\" if x%2==0 else \"Odd\" for x in range(5)]\n",
    "print(label)\n",
    "\n",
    "# List comprehension Nested\n",
    "martix = [[i * j for j in range(1, 4)] for i in range(1, 4)]\n",
    "print(martix)\n",
    "\n",
    "# Flatten a 2D List\n",
    "nested = [[1, 2], [3, 4], [5, 6]]\n",
    "flat = [num for sublist in nested for num in sublist]\n",
    "print(flat)\n",
    "\n",
    "# List comprehension from string\n",
    "word = \"Python\"\n",
    "char_list = [char for char in word]\n",
    "print(char_list) \n",
    "\n",
    "# Removing Specific Characters\n",
    "sentence = \"Hello World\"\n",
    "no_spaces = [char for char in sentence if char != \" \"]\n",
    "print(no_spaces)  "
   ]
  },
  {
   "cell_type": "markdown",
   "metadata": {},
   "source": [
    "# Tuple"
   ]
  },
  {
   "cell_type": "code",
   "execution_count": 15,
   "metadata": {},
   "outputs": [
    {
     "name": "stdout",
     "output_type": "stream",
     "text": [
      "()\n",
      "<class 'tuple'>\n",
      "(1, 2, 3, 4, 5)\n",
      "<class 'tuple'>\n",
      "(1,)\n",
      "<class 'tuple'>\n",
      "(1, 2, 'apple', 3.14)\n"
     ]
    }
   ],
   "source": [
    "A = ()\n",
    "print(A)\n",
    "print(type(A))\n",
    "B = (1, 2, 3, 4, 5)\n",
    "print(B)\n",
    "print(type(B))\n",
    "C = (1, )\n",
    "print(C)\n",
    "print(type(C))\n",
    "my_tuple = (1, 2, \"apple\", 3.14)\n",
    "print(my_tuple)"
   ]
  },
  {
   "cell_type": "code",
   "execution_count": 17,
   "metadata": {},
   "outputs": [
    {
     "name": "stdout",
     "output_type": "stream",
     "text": [
      "2\n",
      "2\n",
      "5\n",
      "20\n",
      "(20, 30, 20)\n",
      "True\n",
      "(10, 20, 30, 20, 40, 50, 60)\n",
      "(10, 20, 30, 20, 40, 10, 20, 30, 20, 40)\n"
     ]
    }
   ],
   "source": [
    "# Methods \n",
    "t = (10, 20, 30, 20, 40)\n",
    "\n",
    "print(t.count(20))\n",
    "print(t.index(30))\n",
    "print(len(t))\n",
    "\n",
    "print(t[1])            \n",
    "print(t[1:4])                    \n",
    "print(40 in t)         \n",
    "print(t + (50, 60))    \n",
    "print(t * 2)           \n"
   ]
  },
  {
   "cell_type": "markdown",
   "metadata": {},
   "source": [
    "# Dictionary"
   ]
  },
  {
   "cell_type": "code",
   "execution_count": 26,
   "metadata": {},
   "outputs": [
    {
     "name": "stdout",
     "output_type": "stream",
     "text": [
      "{'key': 'value', 'Name': 'Devashish Sharma', 'Age': 21, 'Add': ['B2-1403', 'Kingsbury', ' Pride World City']}\n",
      "value\n",
      "Devashish Sharma\n",
      "['B2-1403', 'Kingsbury', ' Pride World City']\n"
     ]
    }
   ],
   "source": [
    "a = {\"key\": \"value\", \"Name\": \"Devashish Sharma\", \"Age\": 21, \"Add\": [\"B2-1403\", \"Kingsbury\", \" Pride World City\"]}\n",
    "print(a)\n",
    "print(a[\"key\"])\n",
    "print(a[\"Name\"])\n",
    "print(a[\"Add\"])"
   ]
  },
  {
   "cell_type": "code",
   "execution_count": 35,
   "metadata": {},
   "outputs": [
    {
     "name": "stdout",
     "output_type": "stream",
     "text": [
      "{'Name': 'Devashish Sharma', 'Age': 21, 'Add': ['B2-1403', 'Kingsbury', ' Pride World City']}\n",
      "{'Name': 'Devashish Sharma', 'Age': 21, 'Add': ['B2-1403', 'Kingsbury', ' Pride World City'], 'DOB': 2003}\n",
      "{'Name': 'Devashish Sharma', 'Age': 22, 'Add': ['B2-1403', 'Kingsbury', ' Pride World City'], 'DOB': 2003, 'Edu': 'B.Tech - AIDS'}\n",
      "{'Name': 'Devashish Sharma', 'Age': 22, 'DOB': 2003, 'Edu': 'B.Tech - AIDS'}\n",
      "{'Name': 'Devashish Sharma', 'Age': 22, 'DOB': 2003}\n",
      "{'Name': 'Devashish Sharma', 'Age': 22, 'DOB': 2003}\n",
      "{}\n"
     ]
    }
   ],
   "source": [
    "# Add & Remove Items\n",
    "info = {\"Name\": \"Devashish Sharma\", \"Age\": 21, \"Add\": [\"B2-1403\", \"Kingsbury\", \" Pride World City\"]}\n",
    "print(info)\n",
    "\n",
    "# Add Methods \n",
    "info[\"DOB\"] = 2003   # adding a new key value pair at the end of the dic\n",
    "print(info)\n",
    "\n",
    "info.update({\"Edu\": \"B.Tech - AIDS\", \"Age\": 22})  # can use to add or update the key value pair in the dictionary \n",
    "print(info)\n",
    "\n",
    "\n",
    "# Remove Method\n",
    "info.pop(\"Add\")  # use to remove the key value pair of the perameter given as attribute\n",
    "print(info)\n",
    "\n",
    "info.popitem()  # use to remove the key value pair of the last element and also of the perameter given as attribute\n",
    "print(info)\n",
    "\n",
    "a = info.copy()  # use to copy the dic into another variable\n",
    "print(a)\n",
    "\n",
    "info.clear()  # use to clear the complete dic \n",
    "print(info)"
   ]
  },
  {
   "cell_type": "code",
   "execution_count": 35,
   "metadata": {},
   "outputs": [
    {
     "name": "stdout",
     "output_type": "stream",
     "text": [
      "{'Name': 'Devashish Sharma', 'Age': 21, 'Add': ['B2-1403', 'Kingsbury', ' Pride World City']}\n",
      "dict_items([('Name', 'Devashish Sharma'), ('Age', 21), ('Add', ['B2-1403', 'Kingsbury', ' Pride World City'])])\n",
      "dict_values(['Devashish Sharma', 21, ['B2-1403', 'Kingsbury', ' Pride World City']])\n",
      "dict_keys(['Name', 'Age', 'Add'])\n",
      "21\n"
     ]
    }
   ],
   "source": [
    "# Dicationary Methods\n",
    "info = {\"Name\": \"Devashish Sharma\", \"Age\": 21, \"Add\": [\"B2-1403\", \"Kingsbury\", \" Pride World City\"]}\n",
    "print(info)\n",
    "\n",
    "print(info.items())   # use to show all the items in the dic\n",
    "print(info.values())   # use to show all the values in the dic \n",
    "print(info.keys())    # use to show all the keys in the dic \n",
    "print(info.get(\"Age\"))   # use to show the value of the given attribute"
   ]
  },
  {
   "cell_type": "code",
   "execution_count": null,
   "metadata": {},
   "outputs": [],
   "source": [
    "# Dictionary Comprehention\n",
    "\n"
   ]
  },
  {
   "cell_type": "markdown",
   "metadata": {},
   "source": [
    "# Sets & FrozenSet"
   ]
  },
  {
   "cell_type": "code",
   "execution_count": 1,
   "metadata": {},
   "outputs": [
    {
     "name": "stdout",
     "output_type": "stream",
     "text": [
      "{1, 2, 3, 4, 5}\n",
      "{1, 2, 3, 4, 5}\n",
      "set()\n"
     ]
    }
   ],
   "source": [
    "set_1 = {1, 2, 3, 4, 5}\n",
    "print(set_1)\n",
    "set_2 = set([1, 2, 3, 4, 5])\n",
    "print(set_2)\n",
    "set_3 = set()  # empty set\n",
    "print(set_3)"
   ]
  },
  {
   "cell_type": "code",
   "execution_count": 22,
   "metadata": {},
   "outputs": [
    {
     "name": "stdout",
     "output_type": "stream",
     "text": [
      "{1, 2, 3, 4, 5, 6, 7}\n",
      "7\n",
      "{2, 3, 4, 5, 6, 7}\n",
      "{2, 3, 4, 5, 6, 7, 8}\n",
      "{2, 3, 4, 5, 6, 7}\n",
      "{2, 3, 4, 5, 6, 7, 8, 9, 10}\n",
      "{2, 3, 4, 5, 6, 7, 8, 9}\n",
      "set()\n"
     ]
    }
   ],
   "source": [
    "# Set Methods \n",
    "s = {1, 2, 3, 4, 5, 6, 7}\n",
    "print(s)\n",
    "\n",
    "print(len(s)) # use to print the length of the set\n",
    "\n",
    "s.pop()  # use to pop the first item of the set\n",
    "print(s)\n",
    "\n",
    "s.add(8)  # use to add the item in the set at the end\n",
    "print(s)\n",
    "\n",
    "s.remove(8)  # use to remove the item given as argument\n",
    "print(s)\n",
    "\n",
    "s.update({8, 9 , 10})   # Use to add another set into the given set\n",
    "print(s) \n",
    "\n",
    "s.discard(10)  # use to remove the item given as argument\n",
    "print(s)\n",
    "\n",
    "s.clear()   # use to empty the set\n",
    "print(s)\n"
   ]
  },
  {
   "cell_type": "code",
   "execution_count": 33,
   "metadata": {},
   "outputs": [
    {
     "name": "stdout",
     "output_type": "stream",
     "text": [
      "{1, 2, 3, 4, 5, 6, 7} {3, 4, 6, 8, 9, 10}\n",
      "{1, 2, 3, 4, 5, 6, 7, 8, 9, 10}\n",
      "{3, 4, 6}\n",
      "{1, 2, 5, 7}\n",
      "{1, 2, 5, 7, 8, 9, 10}\n",
      "True\n",
      "True\n",
      "True\n",
      "5\n",
      "1\n",
      "5\n",
      "15\n",
      "[1, 2, 3, 4, 5]\n"
     ]
    }
   ],
   "source": [
    "# Set Oerations\n",
    "s1 = {1, 2, 3, 4, 5, 6, 7}\n",
    "s2 = {3, 4, 6, 8, 9, 10}\n",
    "print(s1, s2)\n",
    "\n",
    "print(s1.union(s2))  # use to take the union of two sets\n",
    "print(s1.intersection(s2))   # use to take intersection of two sets\n",
    "print(s1.difference(s2))  # use to show the difference of set 1 with respect to set 2\n",
    "print(s1.symmetric_difference(s2))   # use to show the non intersection items of the set\n",
    " \n",
    "\n",
    "# Set Comparison Methods\n",
    "a = {1, 2}\n",
    "b = {1, 2, 3, 4}\n",
    "\n",
    "print(a.issubset(b))      # use to check if a is a sub set of b or not\n",
    "print(b.issuperset(a))    # use to check if b is the superset of a or not\n",
    "print(a.isdisjoint({5}))    # use to check if the given attribute is in the connected set or not\n",
    "\n",
    "\n",
    "# Mathimatical Functions\n",
    "s = {1, 4, 3, 2, 5}\n",
    "\n",
    "print(len(s))       # Number of elements in the set\n",
    "print(min(s))       # use to find the Minimum (if elements are comparable) of the set\n",
    "print(max(s))       # use to find the Maximum of the set\n",
    "print(sum(s))       # use to take the Sum of numeric elements of set\n",
    "print(sorted(s))    # Returns a sorted list \n"
   ]
  },
  {
   "cell_type": "code",
   "execution_count": 34,
   "metadata": {},
   "outputs": [
    {
     "name": "stdout",
     "output_type": "stream",
     "text": [
      "frozenset({1, 2, 3, 4})\n"
     ]
    }
   ],
   "source": [
    "# Frozen-Sets\n",
    "fs = frozenset([1, 2, 3, 4])  # this are immutable sets which means we can not update the set\n",
    "print(fs) "
   ]
  },
  {
   "cell_type": "markdown",
   "metadata": {},
   "source": [
    "# Collections Module\n",
    "\n",
    "Collections module in Python\n",
    "one of the most powerful and underused parts of the standard library. It provides specialized container datatypes that extend Python's built-in data structures (like dict, list, tuple, and set) with additional functionality."
   ]
  },
  {
   "cell_type": "code",
   "execution_count": 46,
   "metadata": {},
   "outputs": [
    {
     "name": "stdout",
     "output_type": "stream",
     "text": [
      "Counter({'apple': 3, 'banana': 2, 'cherry': 1})\n",
      "2\n",
      "['apple', 'apple', 'apple', 'banana', 'banana', 'cherry']\n",
      "[('apple', 3), ('banana', 2)]\n",
      "3\n"
     ]
    }
   ],
   "source": [
    "# 1. Counter\n",
    "# Purpose: Count hashable items (like words, characters, numbers).\n",
    "\n",
    "from collections import Counter\n",
    "\n",
    "words = [\"apple\", \"banana\", \"apple\", \"cherry\", \"banana\", \"apple\"]\n",
    "count = Counter(words)\n",
    "print(count)\n",
    "\n",
    "print(count['banana'])   # use to print the total count of the attribute as here is banana\n",
    "print(list(count.elements()))   # use to print the elements in the form of list\n",
    "print(count.most_common(2))    # use to print the most common items (no. of items depends on the attribute given)\n",
    "count.update(['banana'])   # use to incerement the count of the given attribute by 1\n",
    "print(count['banana'])"
   ]
  },
  {
   "cell_type": "code",
   "execution_count": 52,
   "metadata": {},
   "outputs": [
    {
     "name": "stdout",
     "output_type": "stream",
     "text": [
      "defaultdict(<class 'int'>, {'a': 1, 'b': 5, 'c': 8})\n",
      "defaultdict(<class 'list'>, {'fruits': ['apple', 'banana']})\n"
     ]
    }
   ],
   "source": [
    "# 2. defaultdict\n",
    "# Purpose: Like a dictionary, but returns a default value for missing keys instead of throwing an error.\n",
    "\n",
    "from collections import defaultdict\n",
    "\n",
    "dd = defaultdict(int)\n",
    "dd['a'] = 1\n",
    "dd['b'] = 5\n",
    "dd['c'] = 8\n",
    "print(dd)\n",
    "\n",
    "d = defaultdict(list)\n",
    "d['fruits'].append('apple')\n",
    "d['fruits'].append('banana')\n",
    "d['fruits'].append('mango')\n",
    "print(d)\n"
   ]
  },
  {
   "cell_type": "code",
   "execution_count": 59,
   "metadata": {},
   "outputs": [
    {
     "name": "stdout",
     "output_type": "stream",
     "text": [
      "OrderedDict({'a': 1, 'b': 2, 'c': 3})\n",
      "OrderedDict({'b': 2, 'c': 3, 'a': 1})\n",
      "OrderedDict({'b': 2, 'c': 3})\n"
     ]
    }
   ],
   "source": [
    "# 3. OrderedDict (Python 3.6+ dicts preserve order, but still useful in earlier versions or for specific methods)\n",
    "# Purpose: Remember the order of insertion.\n",
    "\n",
    "from collections import OrderedDict\n",
    "\n",
    "od = OrderedDict()\n",
    "od['a'] = 1\n",
    "od['b'] = 2\n",
    "od['c'] = 3\n",
    "print(od)\n",
    "\n",
    "# Method \n",
    "od.move_to_end('a')   # \tMoves an item to the end (or beginning if last=False)\n",
    "print(od)\n",
    "\n",
    "od.popitem()  # Removes and returns the last item (last=True)\n",
    "print(od)"
   ]
  }
 ],
 "metadata": {
  "kernelspec": {
   "display_name": "Python 3",
   "language": "python",
   "name": "python3"
  },
  "language_info": {
   "codemirror_mode": {
    "name": "ipython",
    "version": 3
   },
   "file_extension": ".py",
   "mimetype": "text/x-python",
   "name": "python",
   "nbconvert_exporter": "python",
   "pygments_lexer": "ipython3",
   "version": "3.13.3"
  }
 },
 "nbformat": 4,
 "nbformat_minor": 2
}
