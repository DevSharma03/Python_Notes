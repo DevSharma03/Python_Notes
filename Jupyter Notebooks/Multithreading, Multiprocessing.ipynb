{
 "cells": [
  {
   "cell_type": "markdown",
   "metadata": {},
   "source": [
    "# Multithreading\n",
    "- Multithreading allows concurrent execution of multiple threads (smaller units of a process) to improve performance — especially when tasks involve waiting, such as I/O operations (e.g., file/network access)."
   ]
  },
  {
   "cell_type": "code",
   "execution_count": 2,
   "metadata": {},
   "outputs": [
    {
     "name": "stdout",
     "output_type": "stream",
     "text": [
      "hello from thread\n",
      "hello from Dev\n"
     ]
    }
   ],
   "source": [
    "# Creating Threads with threading.Thread\n",
    "# Basic Example\n",
    "import threading\n",
    "\n",
    "def greet():\n",
    "    print(\"hello from thread\")\n",
    "    \n",
    "def greet1():\n",
    "    print(\"hello from Dev\")\n",
    "\n",
    "# create and start a thread\n",
    "t1 = threading.Thread(target = greet)\n",
    "t2 = threading.Thread(target = greet1)\n",
    "t1.start()   # start the thread working\n",
    "t2.start()   # start the thread working\n",
    "t1.join()  # waits for the thread to finish before starting next\n",
    "t2.join()  "
   ]
  },
  {
   "cell_type": "code",
   "execution_count": 5,
   "metadata": {},
   "outputs": [
    {
     "name": "stdout",
     "output_type": "stream",
     "text": [
      "Thread-1 - 0\n",
      "Thread-1 - 1\n",
      "Thread-1 - 2\n",
      "Thread-2 - 0\n",
      "Thread-2 - 1\n",
      "Thread-2 - 2\n"
     ]
    }
   ],
   "source": [
    "# Thread with argument \n",
    "def display(name, count):\n",
    "    for i in range(count):\n",
    "        print(f\"{name} - {i}\")\n",
    "\n",
    "t1 = threading.Thread(target=display, args=(\"Thread-1\", 3))\n",
    "t2 = threading.Thread(target=display, args=(\"Thread-2\", 3))\n",
    "\n",
    "t1.start()\n",
    "t2.start()\n",
    "t1.join()\n",
    "t2.join()"
   ]
  },
  {
   "cell_type": "code",
   "execution_count": 9,
   "metadata": {},
   "outputs": [
    {
     "name": "stdout",
     "output_type": "stream",
     "text": [
      "Starting A\n",
      "Starting B\n",
      "Ending A\n",
      "Ending B\n",
      "Total Time: 2.0039873123168945\n"
     ]
    }
   ],
   "source": [
    "# Thread Running in parallel \n",
    "import time\n",
    "\n",
    "def task(name):\n",
    "    print(f\"Starting {name}\")\n",
    "    time.sleep(2)\n",
    "    print(f\"Ending {name}\")\n",
    "\n",
    "start = time.time()\n",
    "\n",
    "t1 = threading.Thread(target=task, args=(\"A\",))\n",
    "t2 = threading.Thread(target=task, args=(\"B\",))\n",
    "t1.start()\n",
    "t2.start()\n",
    "t1.join()\n",
    "t2.join()\n",
    "\n",
    "print(\"Total Time:\", time.time() - start)"
   ]
  },
  {
   "cell_type": "code",
   "execution_count": 18,
   "metadata": {},
   "outputs": [
    {
     "name": "stdout",
     "output_type": "stream",
     "text": [
      "Sleeping for 4 seconds\n",
      "Sleeping for 2 seconds\n",
      "Sleeping for 1 seconds\n",
      "4.004414300026838\n"
     ]
    }
   ],
   "source": [
    "# An Example by CodeWithHarry\n",
    "import threading\n",
    "import time\n",
    "\n",
    "# indicates come task being done\n",
    "def func(seconds):\n",
    "    print(f\"Sleeping for {seconds} seconds\")\n",
    "    time.sleep(seconds)\n",
    "\n",
    "# Normal Code\n",
    "# func(4)\n",
    "# func(2)\n",
    "# func(1)\n",
    "\n",
    "time1= time.perf_counter()\n",
    "# Same code using threads \n",
    "t1 = threading.Thread(target=func, args = [4])\n",
    "t2 = threading.Thread(target=func, args = [2])\n",
    "t3 = threading.Thread(target=func, args = [1])\n",
    "\n",
    "t1.start()\n",
    "t2.start()\n",
    "t3.start()\n",
    "t1.join()\n",
    "t2.join()\n",
    "t3.join()\n",
    "\n",
    "time2 = time.perf_counter()\n",
    "Ttime = (time2-time1)\n",
    "print(Ttime)"
   ]
  },
  {
   "cell_type": "code",
   "execution_count": 21,
   "metadata": {},
   "outputs": [
    {
     "name": "stdout",
     "output_type": "stream",
     "text": [
      "Sleeping for 3 seconds\n",
      "None\n",
      "Sleeping for 2 seconds\n",
      "None\n",
      "Sleeping for 4 seconds\n",
      "None\n"
     ]
    }
   ],
   "source": [
    "# An Example by CodeWithHarry\n",
    "import threading\n",
    "import time\n",
    "from concurrent.futures import ThreadPoolExecutor\n",
    "\n",
    "# indicates come task being done\n",
    "def func(seconds):\n",
    "    print(f\"Sleeping for {seconds} seconds\")\n",
    "    time.sleep(seconds)\n",
    "\n",
    "def poolingDemo():\n",
    "    with ThreadPoolExecutor() as executor:\n",
    "        future1 = executor.submit(func, 3)\n",
    "        future2 = executor.submit(func, 2)\n",
    "        future3= executor.submit(func, 4)\n",
    "        print(future1.result())\n",
    "        print(future2.result())\n",
    "        print(future3.result())\n",
    "        \n",
    "poolingDemo()\n",
    "        "
   ]
  },
  {
   "cell_type": "code",
   "execution_count": 23,
   "metadata": {},
   "outputs": [
    {
     "name": "stdout",
     "output_type": "stream",
     "text": [
      "Sleeping for 3 seconds\n",
      "Sleeping for 5 seconds\n",
      "Sleeping for 1 seconds\n",
      "Sleeping for 2 seconds\n",
      "3\n",
      "5\n",
      "1\n",
      "2\n"
     ]
    }
   ],
   "source": [
    "import threading\n",
    "import time\n",
    "from concurrent.futures import ThreadPoolExecutor\n",
    "\n",
    "# indicates come task being done\n",
    "def func(seconds):\n",
    "    print(f\"Sleeping for {seconds} seconds\")\n",
    "    time.sleep(seconds)\n",
    "    return seconds\n",
    "\n",
    "def poolingDemo():\n",
    "    with ThreadPoolExecutor() as executor:\n",
    "        l = [3, 5, 1, 2]\n",
    "        results = executor.map(func, l)\n",
    "        for result in results:\n",
    "            print(result)\n",
    "        \n",
    "poolingDemo()"
   ]
  },
  {
   "cell_type": "markdown",
   "metadata": {},
   "source": [
    "# MultiProcessing"
   ]
  },
  {
   "cell_type": "code",
   "execution_count": 55,
   "metadata": {},
   "outputs": [
    {
     "name": "stdout",
     "output_type": "stream",
     "text": [
      "Started Downloading 0\n",
      "Finished Downloading 0\n",
      "Started Downloading 1\n",
      "Finished Downloading 1\n",
      "Started Downloading 2\n",
      "Finished Downloading 2\n",
      "Started Downloading 3\n",
      "Finished Downloading 3\n",
      "Started Downloading 4\n",
      "Finished Downloading 4\n"
     ]
    }
   ],
   "source": [
    "import multiprocessing\n",
    "import requests\n",
    "\n",
    "def downloadFile(url, name):\n",
    "  print(f\"Started Downloading {name}\")\n",
    "  response = requests.get(url)\n",
    "  open(f\"Files/file{name}.jpg\", \"wb\").write(response.content)\n",
    "  print(f\"Finished Downloading {name}\")\n",
    "\n",
    "url = \"https://picsum.photos/200/3000\"\n",
    "pros = []\n",
    "for i in range(5):\n",
    "  downloadFile(url, i)"
   ]
  },
  {
   "cell_type": "code",
   "execution_count": 2,
   "metadata": {},
   "outputs": [],
   "source": [
    "import multiprocessing\n",
    "import requests\n",
    "\n",
    "def downloadFile(url, name):\n",
    "  print(f\"Started Downloading {name}\")\n",
    "  response = requests.get(url)\n",
    "  open(f\"Files/file-{name}.jpg\", \"wb\").write(response.content)\n",
    "  print(f\"Finished Downloading {name}\")\n",
    " \n",
    "url = \"https://picsum.photos/2000/3000\"\n",
    "pros = []\n",
    "for i in range(50):\n",
    "  # downloadFile(url, i)\n",
    "  p = multiprocessing.Process(target=downloadFile, args=[url, i])\n",
    "  p.start()\n",
    "  pros.append(p)\n",
    "\n",
    "for p in pros:\n",
    "  p.join()"
   ]
  }
 ],
 "metadata": {
  "kernelspec": {
   "display_name": "Python 3",
   "language": "python",
   "name": "python3"
  },
  "language_info": {
   "codemirror_mode": {
    "name": "ipython",
    "version": 3
   },
   "file_extension": ".py",
   "mimetype": "text/x-python",
   "name": "python",
   "nbconvert_exporter": "python",
   "pygments_lexer": "ipython3",
   "version": "3.13.3"
  }
 },
 "nbformat": 4,
 "nbformat_minor": 2
}
