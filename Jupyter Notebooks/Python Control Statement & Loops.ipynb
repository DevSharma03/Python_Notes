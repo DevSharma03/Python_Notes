{
 "cells": [
  {
   "cell_type": "markdown",
   "metadata": {},
   "source": [
    "# Control Statement"
   ]
  },
  {
   "cell_type": "code",
   "execution_count": 3,
   "metadata": {},
   "outputs": [
    {
     "name": "stdout",
     "output_type": "stream",
     "text": [
      "minor\n"
     ]
    }
   ],
   "source": [
    "# If Statement\n",
    "x = 10\n",
    "if x > 18:\n",
    "    print(\"Adult\")\n",
    "\n",
    "if x < 18:\n",
    "    print(\"Minor\")"
   ]
  },
  {
   "cell_type": "code",
   "execution_count": 5,
   "metadata": {},
   "outputs": [
    {
     "name": "stdout",
     "output_type": "stream",
     "text": [
      "Minor\n",
      "Odd\n"
     ]
    }
   ],
   "source": [
    "# if-else Statement\n",
    "x = 15\n",
    "if x > 18:\n",
    "    print(\"Adult\")\n",
    "else:\n",
    "    print(\"Minor\")\n",
    "\n",
    "a = 3\n",
    "if a % 2 == 0:\n",
    "    print(\"Even\")\n",
    "else:\n",
    "    print(\"Odd\")"
   ]
  },
  {
   "cell_type": "code",
   "execution_count": 8,
   "metadata": {},
   "outputs": [
    {
     "name": "stdout",
     "output_type": "stream",
     "text": [
      "Your age is exact 18\n",
      "C Grade\n"
     ]
    }
   ],
   "source": [
    "# If-elif-else Statement\n",
    "x = 18\n",
    "if x > 18:\n",
    "    print(\"Adult\")\n",
    "elif x == 18:\n",
    "    print(\"Your age is exact 18\")\n",
    "else:\n",
    "    print(\"Minor\")\n",
    "\n",
    "\n",
    "marks = 75\n",
    "if marks >= 90:\n",
    "    print(\"A Grade\")\n",
    "elif marks >= 80:\n",
    "    print(\"B Grade\")\n",
    "elif marks >= 70:\n",
    "    print(\"C Grade\")\n",
    "else:\n",
    "    print(\"D Grade\")\n"
   ]
  },
  {
   "cell_type": "code",
   "execution_count": 9,
   "metadata": {},
   "outputs": [
    {
     "name": "stdout",
     "output_type": "stream",
     "text": [
      "x is between 5 and 15\n"
     ]
    }
   ],
   "source": [
    "# Nested If\n",
    "x = 10\n",
    "if x > 5:\n",
    "    if x < 15:\n",
    "        print(\"x is between 5 and 15\")\n"
   ]
  },
  {
   "cell_type": "markdown",
   "metadata": {},
   "source": [
    "# Loops"
   ]
  },
  {
   "cell_type": "code",
   "execution_count": 31,
   "metadata": {},
   "outputs": [
    {
     "name": "stdout",
     "output_type": "stream",
     "text": [
      "0\n",
      "1\n",
      "2\n",
      "3\n",
      "4\n",
      "5\n",
      "6\n",
      "7\n",
      "8\n",
      "9\n",
      "10\n",
      "Next\n",
      "1\n",
      "3\n",
      "5\n",
      "7\n",
      "9\n",
      "Next\n",
      "1\n",
      "2\n",
      "3\n",
      "4\n",
      "5\n",
      "6\n",
      "7\n",
      "8\n",
      "9\n",
      "10\n",
      "Next\n",
      "apple\n",
      "banana\n",
      "cherry\n",
      "Next\n",
      "0\n",
      "1\n",
      "2\n",
      "Loop completed\n"
     ]
    }
   ],
   "source": [
    "# For Loop {range(start, stop, step)}\n",
    "for i in range(11):\n",
    "    print(i)\n",
    "\n",
    "print(\"Next\")\n",
    "\n",
    "for i in range(1, 11, 2):\n",
    "    print(i)\n",
    "\n",
    "print(\"Next\")\n",
    "\n",
    "for i in range(1, 11):\n",
    "    print(i)\n",
    "\n",
    "print(\"Next\")\n",
    "\n",
    "fruits = [\"apple\", \"banana\", \"cherry\"]\n",
    "for fruit in fruits:\n",
    "    print(fruit)\n",
    "\n",
    "print(\"Next\")\n",
    "\n",
    "for i in range(3):\n",
    "    print(i)\n",
    "else:\n",
    "    print(\"Loop completed\")\n"
   ]
  },
  {
   "cell_type": "code",
   "execution_count": 30,
   "metadata": {},
   "outputs": [
    {
     "name": "stdout",
     "output_type": "stream",
     "text": [
      "1\n",
      "2\n",
      "3\n",
      "4\n",
      "5\n",
      "Next\n",
      "0\n",
      "1\n",
      "2\n",
      "Finished\n"
     ]
    }
   ],
   "source": [
    "# While Loop\n",
    "x = 1\n",
    "while x <= 5:\n",
    "    print(x)\n",
    "    x += 1\n",
    "\n",
    "print(\"Next\")\n",
    "\n",
    "a = 0\n",
    "while a < 3:\n",
    "    print(a)\n",
    "    a += 1\n",
    "else:\n",
    "    print(\"Finished\")\n"
   ]
  },
  {
   "cell_type": "code",
   "execution_count": 32,
   "metadata": {},
   "outputs": [
    {
     "name": "stdout",
     "output_type": "stream",
     "text": [
      "0\n",
      "1\n",
      "2\n",
      "3\n",
      "4\n",
      "Next\n",
      "0\n",
      "1\n",
      "3\n",
      "4\n",
      "Next\n"
     ]
    }
   ],
   "source": [
    "# Loop Control Statements\n",
    "# Break\n",
    "for i in range(10):\n",
    "    if i == 5:\n",
    "        break  # it will close the loop after the condition is fullfill \n",
    "    print(i)\n",
    "\n",
    "print(\"Next\")\n",
    "\n",
    "# Continue\n",
    "for a in range(5):\n",
    "    if a == 2:\n",
    "        continue  # use to leave the 2 and then print the remaining no. same\n",
    "    print(a)\n",
    "\n",
    "print(\"Next\")\n",
    "\n",
    "# Pass\n",
    "for b in range(5):\n",
    "    pass  # it does nothing its just it stops the loop from throwing an error and pass it for further use\n",
    "\n"
   ]
  },
  {
   "cell_type": "code",
   "execution_count": 33,
   "metadata": {},
   "outputs": [
    {
     "name": "stdout",
     "output_type": "stream",
     "text": [
      "i=0, j=0\n",
      "i=0, j=1\n",
      "i=1, j=0\n",
      "i=1, j=1\n",
      "i=2, j=0\n",
      "i=2, j=1\n"
     ]
    }
   ],
   "source": [
    "# Nested Looping\n",
    "for i in range(3):\n",
    "    for j in range(2):\n",
    "        print(f\"i={i}, j={j}\")\n"
   ]
  },
  {
   "cell_type": "code",
   "execution_count": 35,
   "metadata": {},
   "outputs": [
    {
     "name": "stdout",
     "output_type": "stream",
     "text": [
      "11 is a prime number\n",
      "13 is a prime number\n",
      "17 is a prime number\n",
      "19 is a prime number\n"
     ]
    }
   ],
   "source": [
    "# Real World Example \n",
    "for num in range(10, 20):\n",
    "    for i in range(2, num):\n",
    "        if num % i == 0:\n",
    "            break\n",
    "    else:\n",
    "        print(f\"{num} is a prime number\")"
   ]
  }
 ],
 "metadata": {
  "kernelspec": {
   "display_name": "Python 3",
   "language": "python",
   "name": "python3"
  },
  "language_info": {
   "codemirror_mode": {
    "name": "ipython",
    "version": 3
   },
   "file_extension": ".py",
   "mimetype": "text/x-python",
   "name": "python",
   "nbconvert_exporter": "python",
   "pygments_lexer": "ipython3",
   "version": "3.13.3"
  }
 },
 "nbformat": 4,
 "nbformat_minor": 2
}
