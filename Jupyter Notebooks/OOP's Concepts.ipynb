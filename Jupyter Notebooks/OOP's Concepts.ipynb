{
 "cells": [
  {
   "cell_type": "markdown",
   "metadata": {},
   "source": [
    "#  Class and Object"
   ]
  },
  {
   "cell_type": "code",
   "execution_count": 18,
   "metadata": {},
   "outputs": [
    {
     "name": "stdout",
     "output_type": "stream",
     "text": [
      "Hello! 5 50\n"
     ]
    }
   ],
   "source": [
    "# Creating an class\n",
    "class Person:\n",
    "    a = \"Hello!\"\n",
    "    x = 5\n",
    "    y = 50\n",
    "\n",
    "# Creating object\n",
    "p = Person()\n",
    "print(p.a, p.x, p.y)"
   ]
  },
  {
   "cell_type": "code",
   "execution_count": 20,
   "metadata": {},
   "outputs": [
    {
     "name": "stdout",
     "output_type": "stream",
     "text": [
      "Hello, my name is Alice and I'm 25 years old.\n",
      "Alice\n",
      "25\n"
     ]
    }
   ],
   "source": [
    "# defining an class with Constructor\n",
    "class Person:\n",
    "    def __init__(self, name, age):   # here the constructor is defined (self if compulsory to define ) | self is a reference to the current instance of the class. It is used inside class methods to access the object's attributes and other methods. (user can use any other word also at the place of self)\n",
    "        self.name = name  # attribute\n",
    "        self.age = age\n",
    "\n",
    "    def greet(self):  # method\n",
    "        print(f\"Hello, my name is {self.name} and I'm {self.age} years old.\")\n",
    "\n",
    "# calling an object\n",
    "p1 = Person(\"Alice\", 25)\n",
    "p1.greet()\n",
    "print(p1.name)\n",
    "print(p1.age)"
   ]
  },
  {
   "cell_type": "code",
   "execution_count": 22,
   "metadata": {},
   "outputs": [
    {
     "name": "stdout",
     "output_type": "stream",
     "text": [
      "<__main__.Person object at 0x000002548F516900>\n",
      "John(36)\n"
     ]
    }
   ],
   "source": [
    "# __str__() function: it is used to represent string form of the object\n",
    "# example without __str__() function\n",
    "class Person:\n",
    "  def __init__(self, name, age):\n",
    "    self.name = name\n",
    "    self.age = age\n",
    "\n",
    "p1 = Person(\"John\", 36)\n",
    "print(p1)\n",
    "\n",
    "# example with __str__() function\n",
    "class Person:\n",
    "  def __init__(self, name, age):\n",
    "    self.name = name\n",
    "    self.age = age\n",
    "\n",
    "  def __str__(self):\n",
    "    return f\"{self.name}({self.age})\"  # here due to this function we can print the object in the way we want to print\n",
    "\n",
    "p1 = Person(\"John\", 36)\n",
    "print(p1)"
   ]
  },
  {
   "cell_type": "code",
   "execution_count": 29,
   "metadata": {},
   "outputs": [
    {
     "name": "stdout",
     "output_type": "stream",
     "text": [
      "40\n"
     ]
    }
   ],
   "source": [
    "# Object Properties functions\n",
    "class Person:\n",
    "  def __init__(self, name, age):\n",
    "    self.name = name\n",
    "    self.age = age\n",
    "\n",
    "  def myfunc(self):\n",
    "    print(\"Hello my name is \" + self.name)\n",
    "p1 = Person(\"John\", 36)\n",
    "\n",
    "# Modify Object Properties\n",
    "p1.age = 40\n",
    "print(p1.age)\n",
    "\n",
    "# Delete Object Properties\n",
    "del p1.age\n",
    "# print(p1.age)\n",
    "\n",
    "# Delete Objects\n",
    "del p1\n",
    "# print(p1)"
   ]
  },
  {
   "cell_type": "code",
   "execution_count": 30,
   "metadata": {},
   "outputs": [
    {
     "name": "stdout",
     "output_type": "stream",
     "text": [
      "Amit\n",
      "Dev\n",
      "Greenwood\n"
     ]
    }
   ],
   "source": [
    "# Object instance and class variable \n",
    "# instance - unique to each object(self.val)\n",
    "# class variable - shared by all the object(class.val)\n",
    "\n",
    "class Student:\n",
    "    school_name = \"Greenwood\"  # class variable\n",
    "\n",
    "    def __init__(self, name):\n",
    "        self.name = name  # instance variable\n",
    "\n",
    "s1 = Student(\"Amit\")\n",
    "s2 = Student(\"Dev\")\n",
    "\n",
    "print(s1.name)       \n",
    "print(s2.name)         \n",
    "print(s1.school_name)  "
   ]
  },
  {
   "cell_type": "markdown",
   "metadata": {},
   "source": [
    "# Inheritance "
   ]
  },
  {
   "cell_type": "code",
   "execution_count": 31,
   "metadata": {},
   "outputs": [
    {
     "name": "stdout",
     "output_type": "stream",
     "text": [
      "hello\n"
     ]
    }
   ],
   "source": [
    "# Basic Example of Inheritance\n",
    "class person:\n",
    "    a = \"hello\"\n",
    "\n",
    "class child(person):\n",
    "    b= \"Hello\"\n",
    "\n",
    "x = child()\n",
    "print(x.a)"
   ]
  },
  {
   "cell_type": "code",
   "execution_count": 33,
   "metadata": {},
   "outputs": [
    {
     "name": "stdout",
     "output_type": "stream",
     "text": [
      "John Doe\n",
      "Dev sharma\n"
     ]
    }
   ],
   "source": [
    "class Person:\n",
    "  def __init__(self, fname, lname):\n",
    "    self.firstname = fname\n",
    "    self.lastname = lname\n",
    "\n",
    "  def printname(self):\n",
    "    print(self.firstname, self.lastname)\n",
    "\n",
    "class Student(Person):  # here the class person is inherited in the class student\n",
    "  pass\n",
    "\n",
    "#Use the Person class to create an object, and then execute the printname method:\n",
    "\n",
    "x = Person(\"John\", \"Doe\")\n",
    "x.printname()\n",
    "a = Student('Dev', 'sharma')\n",
    "a.printname()"
   ]
  },
  {
   "cell_type": "code",
   "execution_count": 36,
   "metadata": {},
   "outputs": [
    {
     "name": "stdout",
     "output_type": "stream",
     "text": [
      "Mike Olsen\n"
     ]
    }
   ],
   "source": [
    "# super() function \n",
    "# super() function that will make the child class inherit all the methods and properties from its parent\n",
    "\n",
    "class Person:\n",
    "  def __init__(self, fname, lname):\n",
    "    self.firstname = fname\n",
    "    self.lastname = lname\n",
    "\n",
    "  def printname(self):\n",
    "    print(self.firstname, self.lastname)\n",
    "\n",
    "class Student(Person):\n",
    "  def __init__(self, fname, lname):\n",
    "    super().__init__(fname, lname)\n",
    "\n",
    "x = Student(\"Mike\", \"Olsen\")\n",
    "x.printname()"
   ]
  },
  {
   "cell_type": "markdown",
   "metadata": {},
   "source": [
    "### Types of Inheritence "
   ]
  },
  {
   "cell_type": "code",
   "execution_count": 37,
   "metadata": {},
   "outputs": [
    {
     "name": "stdout",
     "output_type": "stream",
     "text": [
      "Animal speaks\n",
      "Bark\n"
     ]
    }
   ],
   "source": [
    "# Single Inheritance\n",
    "class Animal:\n",
    "    def speak(self):\n",
    "        print(\"Animal speaks\")\n",
    "\n",
    "class Dog(Animal):\n",
    "    def bark(self):\n",
    "        print(\"Bark\")\n",
    "\n",
    "d = Dog()\n",
    "d.speak()\n",
    "d.bark()"
   ]
  },
  {
   "cell_type": "code",
   "execution_count": 45,
   "metadata": {},
   "outputs": [
    {
     "name": "stdout",
     "output_type": "stream",
     "text": [
      "bhao bhao\n",
      "speak\n",
      "meao meao\n",
      "speak\n",
      "Eating\n",
      "Eating\n"
     ]
    }
   ],
   "source": [
    "# Hierarchical Inheritance (here one class is inherited to multiple classes)\n",
    "class Animal:\n",
    "    def speak(self):\n",
    "        return 'speak'\n",
    "class Dog(Animal):\n",
    "    def bark(self):\n",
    "        return 'bhao bhao'  \n",
    "class Cat(Animal):\n",
    "    def roar(self):\n",
    "        return 'meao meao'\n",
    "    \n",
    "cat = Cat()\n",
    "dog = Dog()\n",
    "animal = Animal()\n",
    "print(dog.bark())\n",
    "print(dog.speak())\n",
    "print(cat.roar())\n",
    "print(cat.speak())\n",
    "\n",
    "\n",
    "class Animal:\n",
    "    def eat(self):\n",
    "        print(\"Eating\")\n",
    "class Dog(Animal):\n",
    "    def bark(self):\n",
    "        print(\"Barking\")\n",
    "class Cat(Animal):\n",
    "    def meow(self):\n",
    "        print(\"Meowing\")\n",
    "\n",
    "d = Dog()\n",
    "c = Cat()\n",
    "d.eat()\n",
    "c.eat()\n"
   ]
  },
  {
   "cell_type": "code",
   "execution_count": 46,
   "metadata": {},
   "outputs": [
    {
     "name": "stdout",
     "output_type": "stream",
     "text": [
      "Some sound\n",
      "Bark\n",
      "Weep\n"
     ]
    }
   ],
   "source": [
    "# Multilevel Inheritance (here one class is inhertied to another and that another class will be inherited to new one)\n",
    "class Animal:\n",
    "    def sound(self):\n",
    "        print(\"Some sound\")\n",
    "\n",
    "class Dog(Animal):\n",
    "    def bark(self):\n",
    "        print(\"Bark\")\n",
    "\n",
    "class Puppy(Dog):\n",
    "    def weep(self):\n",
    "        print(\"Weep\")\n",
    "\n",
    "p = Puppy()\n",
    "p.sound()  \n",
    "p.bark()   \n",
    "p.weep()   \n"
   ]
  },
  {
   "cell_type": "code",
   "execution_count": 48,
   "metadata": {},
   "outputs": [
    {
     "name": "stdout",
     "output_type": "stream",
     "text": [
      "Loves gardening\n",
      "Loves cooking\n",
      "Loves sports\n"
     ]
    }
   ],
   "source": [
    "# Multiple Inheritance (two or more class in inherited to one class)\n",
    "class Father:\n",
    "    def gardening(self):\n",
    "        print(\"Loves gardening\")\n",
    "\n",
    "class Mother:\n",
    "    def cooking(self):\n",
    "        print(\"Loves cooking\")\n",
    "\n",
    "class Child(Father, Mother):\n",
    "    def sports(self):\n",
    "        print(\"Loves sports\")\n",
    "\n",
    "child = Child()\n",
    "child.gardening()  \n",
    "child.cooking()    \n",
    "child.sports()     \n"
   ]
  },
  {
   "cell_type": "code",
   "execution_count": 50,
   "metadata": {},
   "outputs": [
    {
     "name": "stdout",
     "output_type": "stream",
     "text": [
      "Devashish earns 80000\n",
      "Department: Tech\n"
     ]
    }
   ],
   "source": [
    "# Real world Example\n",
    "class Employee:\n",
    "    def __init__(self, name, salary):\n",
    "        self.name = name\n",
    "        self.salary = salary\n",
    "\n",
    "    def show(self):\n",
    "        print(f\"{self.name} earns {self.salary}\")\n",
    "\n",
    "class Manager(Employee):\n",
    "    def __init__(self, name, salary, department):\n",
    "        super().__init__(name, salary)\n",
    "        self.department = department\n",
    "\n",
    "    def show(self):\n",
    "        super().show()\n",
    "        print(f\"Department: {self.department}\")\n",
    "\n",
    "m = Manager(\"Devashish\", 80000, \"Tech\")\n",
    "m.show()"
   ]
  },
  {
   "cell_type": "markdown",
   "metadata": {},
   "source": [
    "# Polymorphism"
   ]
  },
  {
   "cell_type": "code",
   "execution_count": 53,
   "metadata": {},
   "outputs": [
    {
     "name": "stdout",
     "output_type": "stream",
     "text": [
      "Dog barks\n",
      "Cat meows\n"
     ]
    }
   ],
   "source": [
    "# Method Overriding (Compile-Time Polymorphism)\n",
    "class Animal:\n",
    "    def speak(self):\n",
    "        print(\"Animal speaks\")\n",
    "\n",
    "class Dog(Animal): \n",
    "    def speak(self):   # here the method form Animal class is being overriden by dop class\n",
    "        print(\"Dog barks\")\n",
    "\n",
    "class Cat(Animal):\n",
    "    def speak(self):   # here the method form Animal class is being overriden by cat class\n",
    "        print(\"Cat meows\")\n",
    "\n",
    "for animal in [Dog(), Cat()]:\n",
    "    animal.speak()"
   ]
  },
  {
   "cell_type": "code",
   "execution_count": 2,
   "metadata": {},
   "outputs": [
    {
     "name": "stdout",
     "output_type": "stream",
     "text": [
      "Animal speaks\n",
      "Dog barks\n",
      "Cat meows\n"
     ]
    }
   ],
   "source": [
    "class Animal:\n",
    "    def speak(self):\n",
    "        print(\"Animal speaks\")\n",
    "\n",
    "class Dog(Animal):\n",
    "    def speak(self):\n",
    "        print(\"Dog barks\")\n",
    "\n",
    "class Cat(Animal):\n",
    "    def speak(self):\n",
    "        print(\"Cat meows\")\n",
    "\n",
    "def make_animal_speak(animal: Animal):\n",
    "    animal.speak()\n",
    "\n",
    "# Create objects\n",
    "a = Animal()\n",
    "d = Dog()\n",
    "c = Cat()\n",
    "\n",
    "# Call with different objects\n",
    "make_animal_speak(a)\n",
    "make_animal_speak(d)\n",
    "make_animal_speak(c)\n"
   ]
  },
  {
   "cell_type": "code",
   "execution_count": 4,
   "metadata": {},
   "outputs": [
    {
     "name": "stdout",
     "output_type": "stream",
     "text": [
      "28.259999999999998\n",
      "16\n",
      "78.5\n"
     ]
    }
   ],
   "source": [
    "# Abstract Polymorphism (Using Base Class References)\n",
    "class Shape:\n",
    "    def area(self):\n",
    "        raise NotImplementedError\n",
    "\n",
    "class Circle(Shape):\n",
    "    def __init__(self, r):\n",
    "        self.r = r\n",
    "\n",
    "    def area(self):\n",
    "        return 3.14 * self.r * self.r\n",
    "\n",
    "class Square(Shape):\n",
    "    def __init__(self, side):\n",
    "        self.side = side\n",
    "\n",
    "    def area(self):\n",
    "        return self.side * self.side\n",
    "\n",
    "shapes = [Circle(3), Square(4), Circle(5)]\n",
    "\n",
    "for s in shapes:\n",
    "    print(s.area())"
   ]
  },
  {
   "cell_type": "code",
   "execution_count": 5,
   "metadata": {},
   "outputs": [
    {
     "name": "stdout",
     "output_type": "stream",
     "text": [
      "Paid 500 using PayPal.\n",
      "Paid 1200 using Credit Card.\n"
     ]
    }
   ],
   "source": [
    "# Real World Example \n",
    "class PaymentProcessor:\n",
    "    def pay(self, amount):\n",
    "        raise NotImplementedError  # for to froce the child class to override this method\n",
    "\n",
    "class PayPal(PaymentProcessor):\n",
    "    def pay(self, amount):\n",
    "        print(f\"Paid {amount} using PayPal.\")\n",
    "\n",
    "class CreditCard(PaymentProcessor):\n",
    "    def pay(self, amount):\n",
    "        print(f\"Paid {amount} using Credit Card.\")\n",
    "\n",
    "def process_payment(processor: PaymentProcessor, amount):\n",
    "    processor.pay(amount)\n",
    "\n",
    "process_payment(PayPal(), 500)\n",
    "process_payment(CreditCard(), 1200)"
   ]
  },
  {
   "cell_type": "markdown",
   "metadata": {},
   "source": [
    "### Operator Overloading"
   ]
  },
  {
   "cell_type": "code",
   "execution_count": 10,
   "metadata": {},
   "outputs": [],
   "source": [
    "# | Operator | Method                 | Purpose                |\n",
    "# | -------- | ---------------------- | ---------------------- |\n",
    "# | `+`      | `__add__(self, other)` | Addition               |\n",
    "# | `-`      | `__sub__`              | Subtraction            |\n",
    "# | `*`      | `__mul__`              | Multiplication         |\n",
    "# | `/`      | `__truediv__`          | Division               |\n",
    "# | `==`     | `__eq__`               | Equality Check         |\n",
    "# | `<`      | `__lt__`               | Less Than              |\n",
    "# | `>`      | `__gt__`               | Greater Than           |\n",
    "# | `str()`  | `__str__`              | String representation  |\n",
    "# | `repr()` | `__repr__`             | Official string format |\n"
   ]
  },
  {
   "cell_type": "code",
   "execution_count": 22,
   "metadata": {},
   "outputs": [
    {
     "name": "stdout",
     "output_type": "stream",
     "text": [
      "(4, 6)\n",
      "(-2, -2)\n",
      "(3, 8)\n"
     ]
    }
   ],
   "source": [
    "# example\n",
    "class Point:\n",
    "    def __init__(self, x, y):\n",
    "        self.x = x\n",
    "        self.y = y\n",
    "\n",
    "    def __add__(self, other):\n",
    "        return Point(self.x + other.x, self.y + other.y)\n",
    "    \n",
    "    def __sub__(self, other):\n",
    "        return Point(self.x - other.x, self.y - other.y)\n",
    "    \n",
    "    def __mul__(self, other):\n",
    "        if isinstance(other, (int, float)):  # If multiplying with a number\n",
    "            return Point(self.x * other, self.y * other)\n",
    "        elif isinstance(other, Point):  # If multiplying with another Point\n",
    "            return Point(self.x * other.x, self.y * other.y)\n",
    "        else:\n",
    "            raise TypeError(\"Multiplication only supported with numbers or Point objects\")\n",
    "\n",
    "    def __str__(self):\n",
    "        return f\"({self.x}, {self.y})\"\n",
    "\n",
    "p1 = Point(1, 2)\n",
    "p2 = Point(3, 4)\n",
    "print(p1 + p2)\n",
    "print(p1 - p2)\n",
    "print(p1 * p2)"
   ]
  },
  {
   "cell_type": "code",
   "execution_count": 25,
   "metadata": {},
   "outputs": [
    {
     "name": "stdout",
     "output_type": "stream",
     "text": [
      "₹250\n",
      "False\n",
      "₹100\n",
      "₹150\n",
      "₹250\n"
     ]
    }
   ],
   "source": [
    "# Example: Overloading for a Money class\n",
    "class Money:\n",
    "    def __init__(self, amount):\n",
    "        self.amount = amount\n",
    "\n",
    "    def __add__(self, other):\n",
    "        return Money(self.amount + other.amount)\n",
    "\n",
    "    def __eq__(self, other):\n",
    "        return self.amount == other.amount\n",
    "\n",
    "    def __str__(self):\n",
    "        return f\"₹{self.amount}\"\n",
    "\n",
    "m1 = Money(100)\n",
    "m2 = Money(150)\n",
    "m3 = m1 + m2\n",
    "\n",
    "print(m3)        \n",
    "print(m1 == m2)\n",
    "print(str(m1)) \n",
    "print(str(m2))    \n",
    "print(str(m3)) "
   ]
  },
  {
   "cell_type": "markdown",
   "metadata": {},
   "source": [
    "# Encapsulation"
   ]
  },
  {
   "cell_type": "code",
   "execution_count": 30,
   "metadata": {},
   "outputs": [
    {
     "name": "stdout",
     "output_type": "stream",
     "text": [
      "Dev\n",
      "50000\n",
      "1234\n"
     ]
    }
   ],
   "source": [
    "class Person:\n",
    "    def __init__(self, name, age):\n",
    "        self.name = name          # Public variable - Can be accessed anywhere\n",
    "        self._salary = 50000      # Protected variable - Internal use; suggest don't access from outside\n",
    "        self.__password = \"1234\"  # Private variable - \tName mangled to prevent outside access\n",
    "\n",
    "p = Person(\"Dev\", 25)\n",
    "\n",
    "print(p.name)        # OK (public)\n",
    "print(p._salary)     # OK, but discouraged\n",
    "#print(p.__password) # ❌ AttributeError: private\n",
    "# Accessing private from outside (not recommended):\n",
    "print(p._Person__password)  # 👈 Name Mangling  (A way to access a private variable with value)"
   ]
  },
  {
   "cell_type": "code",
   "execution_count": 40,
   "metadata": {},
   "outputs": [
    {
     "name": "stdout",
     "output_type": "stream",
     "text": [
      "dev\n",
      "100000\n",
      "1234\n"
     ]
    }
   ],
   "source": [
    "class ATM_Crd:\n",
    "    def __init__(self, name, Age):\n",
    "        self.name = name\n",
    "        self._money = 100000\n",
    "        self.__pin = '1234'\n",
    "\n",
    "x = ATM_Crd(\"dev\", 21)\n",
    "\n",
    "print(x.name)\n",
    "print(x._money)\n",
    "# print(x.__pin)  # this one shows an error as it is an private variable \n",
    "# Accessing private from outside (not recommended):\n",
    "print(x._ATM_Crd__pin)  # 👈 Name Manglingx"
   ]
  },
  {
   "cell_type": "code",
   "execution_count": 41,
   "metadata": {},
   "outputs": [
    {
     "name": "stdout",
     "output_type": "stream",
     "text": [
      "25\n",
      "30\n"
     ]
    }
   ],
   "source": [
    "# Getter & Setter\n",
    "# Getters and Setters are methods used to access (get) and modify (set) the values of private/protected attributes in a class.\n",
    "# Traditional Approch Getters & Setters (Java-style)\n",
    "class User:\n",
    "    def __init__(self):\n",
    "        self.__age = 25\n",
    "\n",
    "    def get_age(self):\n",
    "        return self.__age\n",
    "\n",
    "    def set_age(self, value):\n",
    "        if value > 0:\n",
    "            self.__age = value\n",
    "        else:\n",
    "            print(\"Invalid age\")\n",
    "\n",
    "u = User()\n",
    "print(u.get_age()) \n",
    "u.set_age(30)\n",
    "print(u.get_age()) \n",
    "# this way is use to print the private result without having error "
   ]
  },
  {
   "cell_type": "code",
   "execution_count": 42,
   "metadata": {},
   "outputs": [
    {
     "name": "stdout",
     "output_type": "stream",
     "text": [
      "50000\n",
      "60000\n"
     ]
    }
   ],
   "source": [
    "# @property attribute\n",
    "# Syntax: obj.attr  # Looks like a variable\n",
    "# ---> obj.get_attr()  # but the working is like this\n",
    "\n",
    "class Employee:\n",
    "    def __init__(self, name, salary):\n",
    "        self.__name = name\n",
    "        self.__salary = salary\n",
    "\n",
    "    @property   # use it at the place of getter \n",
    "    def salary(self):\n",
    "        return self.__salary\n",
    "\n",
    "    @salary.setter    # use this at the place od setter\n",
    "    def salary(self, value):\n",
    "        if value >= 0:\n",
    "            self.__salary = value\n",
    "        else:\n",
    "            raise ValueError(\"Salary must be non-negative\")\n",
    "\n",
    "emp = Employee(\"Devashish\", 50000)\n",
    "print(emp.salary)     # Calls getter\n",
    "emp.salary = 60000    # Calls setter\n",
    "print(emp.salary)\n",
    "# emp.salary = -1000  # Raises ValueError"
   ]
  },
  {
   "cell_type": "code",
   "execution_count": 45,
   "metadata": {},
   "outputs": [
    {
     "name": "stdout",
     "output_type": "stream",
     "text": [
      "abc@gmail.com\n",
      "Email deleted\n",
      "None\n"
     ]
    }
   ],
   "source": [
    "# Advence Example with getter, setter and delete\n",
    "class User:\n",
    "    def __init__(self, email):\n",
    "        self._email = email\n",
    "\n",
    "    @property    # getter\n",
    "    def email(self):\n",
    "        return self._email\n",
    "\n",
    "    @email.setter    # setter\n",
    "    def email(self, value):\n",
    "        if \"@\" in value:\n",
    "            self._email = value\n",
    "        else:\n",
    "            raise ValueError(\"Invalid email\")\n",
    "\n",
    "    @email.deleter   # deleter\n",
    "    def email(self):\n",
    "        print(\"Email deleted\")\n",
    "        self._email = None\n",
    "\n",
    "u = User(\"abc@gmail.com\")\n",
    "print(u.email)\n",
    "u.email = \"xyz@mail.com\"\n",
    "del u.email\n",
    "print(u.email)"
   ]
  }
 ],
 "metadata": {
  "kernelspec": {
   "display_name": "Python 3",
   "language": "python",
   "name": "python3"
  },
  "language_info": {
   "codemirror_mode": {
    "name": "ipython",
    "version": 3
   },
   "file_extension": ".py",
   "mimetype": "text/x-python",
   "name": "python",
   "nbconvert_exporter": "python",
   "pygments_lexer": "ipython3",
   "version": "3.13.3"
  }
 },
 "nbformat": 4,
 "nbformat_minor": 2
}
