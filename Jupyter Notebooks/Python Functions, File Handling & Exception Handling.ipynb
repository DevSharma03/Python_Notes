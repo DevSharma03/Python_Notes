{
 "cells": [
  {
   "cell_type": "markdown",
   "metadata": {},
   "source": [
    "# Function"
   ]
  },
  {
   "cell_type": "code",
   "execution_count": 5,
   "metadata": {},
   "outputs": [
    {
     "data": {
      "text/plain": [
       "'Hello, Dev!'"
      ]
     },
     "execution_count": 5,
     "metadata": {},
     "output_type": "execute_result"
    }
   ],
   "source": [
    "# Basic Function\n",
    "def greet(name):\n",
    "    return f\"Hello, {name}!\"\n",
    "\n",
    "greet(\"Dev\")"
   ]
  },
  {
   "cell_type": "code",
   "execution_count": 14,
   "metadata": {},
   "outputs": [
    {
     "name": "stdout",
     "output_type": "stream",
     "text": [
      "10\n",
      "15\n",
      "8 2\n"
     ]
    }
   ],
   "source": [
    "# Return Statement & Required Argument\n",
    "def sum(a, b):  # defining the perameters for further use in the function\n",
    "    return a + b\n",
    "\n",
    "print(sum(5, 5))\n",
    "print(sum(5, 10))\n",
    "\n",
    "\n",
    "def calc(x, y):\n",
    "    return x + y, x - y\n",
    "\n",
    "add, sub = calc(5, 3)\n",
    "print(add, sub)\n"
   ]
  },
  {
   "cell_type": "code",
   "execution_count": 7,
   "metadata": {},
   "outputs": [
    {
     "name": "stdout",
     "output_type": "stream",
     "text": [
      "Hello, Guest\n",
      "Hello, Dev\n"
     ]
    }
   ],
   "source": [
    "# Default Argument\n",
    "def greet(name =\"Guest\"):   # here guest is a default paramerter defined so if user forgot to assign asy parameter so it wont show any error \n",
    "    return f\"Hello, {name}\"\n",
    "\n",
    "print(greet())\n",
    "print(greet(\"Dev\"))\n"
   ]
  },
  {
   "cell_type": "code",
   "execution_count": 9,
   "metadata": {},
   "outputs": [
    {
     "name": "stdout",
     "output_type": "stream",
     "text": [
      "Dev is 21 years old\n",
      "Shivani is 21 years old\n"
     ]
    }
   ],
   "source": [
    "# Keyword Arguments\n",
    "def profile(name, age):\n",
    "    print(f\"{name} is {age} years old\")\n",
    "\n",
    "profile(age=21, name=\"Dev\")\n",
    "profile(age=21, name=\"Shivani\")"
   ]
  },
  {
   "cell_type": "code",
   "execution_count": 2,
   "metadata": {},
   "outputs": [
    {
     "name": "stdout",
     "output_type": "stream",
     "text": [
      "25\n",
      "10\n"
     ]
    }
   ],
   "source": [
    "# Lambda Function\n",
    "# Syntax : lambda arguments: expression  # its like a arrow function (One Line function for to reduce code complexicity)\n",
    "square = lambda x: x * x\n",
    "print(square(5))\n",
    "\n",
    "sum = lambda a: a + a\n",
    "print(sum(5))"
   ]
  },
  {
   "cell_type": "code",
   "execution_count": 5,
   "metadata": {},
   "outputs": [
    {
     "name": "stdout",
     "output_type": "stream",
     "text": [
      "120\n",
      "15\n"
     ]
    }
   ],
   "source": [
    "# Recursion expression \n",
    "# - a function which call itselt\n",
    "\n",
    "def factorial(n):\n",
    "    if n == 0:\n",
    "        return 1\n",
    "    return n * factorial(n-1)\n",
    "print(factorial(5))\n",
    "\n",
    "\n",
    "def addition(a):\n",
    "    if a > 0:\n",
    "        return a + addition(a-1)\n",
    "    else:\n",
    "        return 0\n",
    "print(addition(5))"
   ]
  },
  {
   "cell_type": "code",
   "execution_count": 7,
   "metadata": {},
   "outputs": [
    {
     "name": "stdout",
     "output_type": "stream",
     "text": [
      "Inner function\n",
      "Hello, Dev\n"
     ]
    }
   ],
   "source": [
    "# Nested Functions \n",
    "\n",
    "def outer():\n",
    "    def inner():\n",
    "        print(\"Inner function\")\n",
    "    inner()\n",
    "outer()\n",
    "\n",
    "def greet(name):\n",
    "    def message():\n",
    "        return f\"Hello, {name}\"\n",
    "    return message\n",
    "hello = greet(\"Dev\")\n",
    "print(hello()) "
   ]
  },
  {
   "cell_type": "markdown",
   "metadata": {},
   "source": [
    "### Decorators Function\n",
    "- @syntax (anythging comes after @ is an decorator )\n",
    "- a decorator is a function that takes another function as an argument and return a new function that modifies the behavior of the original funtion. "
   ]
  },
  {
   "cell_type": "code",
   "execution_count": 1,
   "metadata": {},
   "outputs": [
    {
     "name": "stdout",
     "output_type": "stream",
     "text": [
      "Before function\n",
      "Hi!\n",
      "After function\n",
      "Before function call\n",
      "Hello!\n",
      "After function call\n",
      "Good Morning\n",
      "This Is Devashish\n",
      "Thanks for using this function....\n"
     ]
    }
   ],
   "source": [
    "# How it works \n",
    "## This:\n",
    "#@decorator_function\n",
    "#def say_hello():\n",
    "#    print(\"Hello\")\n",
    "# Is equivalent to:\n",
    "#say_hello = decorator_function(say_hello)\n",
    "\n",
    "def my_decorator(func):\n",
    "    def wrapper():\n",
    "        print(\"Before function\")\n",
    "        func()\n",
    "        print(\"After function\")\n",
    "    return wrapper\n",
    "@my_decorator\n",
    "def say_hi():\n",
    "    print(\"Hi!\")\n",
    "say_hi()\n",
    "\n",
    "\n",
    "def decorator_function(original_function):\n",
    "    def wrapper_function():\n",
    "        print(\"Before function call\")\n",
    "        original_function()\n",
    "        print(\"After function call\")\n",
    "    return wrapper_function\n",
    "@decorator_function\n",
    "def say_hello():\n",
    "    print(\"Hello!\")\n",
    "say_hello()\n",
    "\n",
    "\n",
    "def greet(fx):\n",
    "    def mfx():\n",
    "        print(\"Good Morning\")\n",
    "        fx()\n",
    "        print(\"Thanks for using this function....\")\n",
    "    return mfx()\n",
    "@greet\n",
    "def hello():\n",
    "    print(\"This Is Devashish\")"
   ]
  },
  {
   "cell_type": "markdown",
   "metadata": {},
   "source": [
    "### Variable-Length Arguments in Python (*args, **kwargs)\n",
    "- *args allows a function to accept any number of positional arguments. (It takes arguments as tuple)\n",
    "- **kwargs allows a function to accept any number of keyword arguments. (It takes agrument as dictunary)"
   ]
  },
  {
   "cell_type": "code",
   "execution_count": 20,
   "metadata": {},
   "outputs": [
    {
     "name": "stdout",
     "output_type": "stream",
     "text": [
      "<class 'tuple'>\n",
      "(4, 5, 6, 7, 8)\n",
      "6.0\n",
      "<class 'tuple'>\n",
      "(4, 5, 6, 7, 8, 9, 10)\n",
      "7.0\n"
     ]
    }
   ],
   "source": [
    "# *avg\n",
    "\n",
    "def average(*numbers):\n",
    "    print(type(numbers))\n",
    "    print(numbers)\n",
    "    sum = 0\n",
    "    for i in numbers:\n",
    "        sum = (sum + i)\n",
    "    print (sum/len(numbers))\n",
    "average(4, 5, 6, 7, 8)\n",
    "average(4, 5, 6, 7, 8, 9, 10)"
   ]
  },
  {
   "cell_type": "code",
   "execution_count": 43,
   "metadata": {},
   "outputs": [
    {
     "name": "stdout",
     "output_type": "stream",
     "text": [
      "name: Devashish\n",
      "age: 24\n",
      "city: Delhi\n",
      "{'FName': 'Dev'}\n",
      "Hello,  Dev\n"
     ]
    }
   ],
   "source": [
    "# **Kwargs\n",
    "def print_details(**kwargs):\n",
    "    for key, value in kwargs.items():\n",
    "        print(f\"{key}: {value}\")\n",
    "print_details(name=\"Devashish\", age=24, city=\"Delhi\")\n",
    "\n",
    "def name(**Name):\n",
    "    print(Name)\n",
    "    print(\"Hello, \", Name[\"FName\"])\n",
    "\n",
    "name(FName = \"Dev\")"
   ]
  },
  {
   "cell_type": "markdown",
   "metadata": {},
   "source": [
    "# File Handling\n",
    "- open(file, mode='r', buffering=-1, encoding=None, errors=None, newline=None, closefd=True)\n",
    "\n",
    "- | Mode  | Description                                 |\n",
    "- | `'r'` | Read (default). File must exist.            |\n",
    "- | `'w'` | Write. Creates file or overwrites existing. |\n",
    "- | `'a'` | Append. Creates file if not exists.         |\n",
    "- | `'x'` | Exclusive creation. Fails if file exists.   |\n",
    "- | `'b'` | Binary mode. (e.g., `rb`, `wb`)             |\n",
    "- | `'t'` | Text mode (default).                        |\n",
    "- | `'+'` | Read and write. (e.g., `r+`, `w+`, `a+`)    |"
   ]
  },
  {
   "cell_type": "code",
   "execution_count": 23,
   "metadata": {},
   "outputs": [
    {
     "name": "stdout",
     "output_type": "stream",
     "text": [
      "Hello, I am Devashish Sharma\n",
      "Hello, I am Devashish Sharma\n",
      "Full-Stack Web & Machine Learning Developer | Architecting Scalable Solutions\n",
      "Iâ€™m a passionate Full-Stack Web Developer and Machine Learning Engineer with a drive to build seamless, high-performance applications that solve real-world problems. With a solid foundation in Java, DSA, Python, and Cloud Computing (AWS & GCP), I specialize in architecting secure, scalable, and intelligent systems.\n",
      "My core stack includes React.js, Node.js, Django, and Express.js, paired with MongoDB, MySQL, and RESTful APIs to deliver full end-to-end solutions. I design intuitive front-end experiences using JavaScript (ES6+), React, and Next.js, while crafting robust back-end systems using Express.js, Django, and Spring Boot.\n",
      "On the AI/ML front, I work with TensorFlow, Keras, Scikit-learn, and NLP to develop models that automate complex tasks and enable data-driven decision-making. I'm deeply interested in exploring how AI can reshape cybersecurity, and I'm currently conducting research on integrating Machine Learning and Generative AI into cybersecurity practices â€” particularly in network security and IT management.\n",
      "Iâ€™ve worked on multiple management-based problem statements, where I built functional prototypes and full-stack applications to address business and operational challenges. These projects sharpened my ability to think critically, design clean architectures, and deliver practical tech solutions.\n",
      "Iâ€™m also well-versed in DevOps and deployment pipelines, leveraging Docker, GitHub Actions, and CI/CD practices to deploy scalable services to the cloud. My experience with Cursor AI, AI Prompt Engineering, and Generative AI continues to grow as I explore modern applications of artificial intelligence in real-world systems.\n",
      "Always eager to learn and innovate, I stay at the forefront of emerging technologies to craft impactful, intelligent, and future-ready applications. Letâ€™s connect and build something game-changing!\n",
      "Full-Stack Web & Machine Learning Developer | Architecting Scalable Solutions\n",
      "\n",
      "['Full-Stack Web & Machine Learning Developer | Architecting Scalable Solutions\\n', 'Iâ€™m a passionate Full-Stack Web Developer and Machine Learning Engineer with a drive to build seamless, high-performance applications that solve real-world problems. With a solid foundation in Java, DSA, Python, and Cloud Computing (AWS & GCP), I specialize in architecting secure, scalable, and intelligent systems.\\n', 'My core stack includes React.js, Node.js, Django, and Express.js, paired with MongoDB, MySQL, and RESTful APIs to deliver full end-to-end solutions. I design intuitive front-end experiences using JavaScript (ES6+), React, and Next.js, while crafting robust back-end systems using Express.js, Django, and Spring Boot.\\n', \"On the AI/ML front, I work with TensorFlow, Keras, Scikit-learn, and NLP to develop models that automate complex tasks and enable data-driven decision-making. I'm deeply interested in exploring how AI can reshape cybersecurity, and I'm currently conducting research on integrating Machine Learning and Generative AI into cybersecurity practices â€” particularly in network security and IT management.\\n\", 'Iâ€™ve worked on multiple management-based problem statements, where I built functional prototypes and full-stack applications to address business and operational challenges. These projects sharpened my ability to think critically, design clean architectures, and deliver practical tech solutions.\\n', 'Iâ€™m also well-versed in DevOps and deployment pipelines, leveraging Docker, GitHub Actions, and CI/CD practices to deploy scalable services to the cloud. My experience with Cursor AI, AI Prompt Engineering, and Generative AI continues to grow as I explore modern applications of artificial intelligence in real-world systems.\\n', 'Always eager to learn and innovate, I stay at the forefront of emerging technologies to craft impactful, intelligent, and future-ready applications. Letâ€™s connect and build something game-changing!']\n",
      "Full-\n",
      "Stack Web & Machine Learning Developer | Architect\n"
     ]
    }
   ],
   "source": [
    "# READ\n",
    "# reading a file and prining the result\n",
    "file = open(\"example.txt\", \"r\")\n",
    "content = file.read()\n",
    "file.close()\n",
    "print(content)\n",
    "\n",
    "# using 'with' statement to avoid .close() as it closes the file automatically\n",
    "with open('example.txt', 'r') as file:\n",
    "    content = file.read()\n",
    "    print(content)\n",
    "\n",
    "# Read Methods\n",
    "# read() – Reads entire file\n",
    "with open('file.txt', 'r') as f:\n",
    "    data = f.read()\n",
    "    print(data)\n",
    "# readline() - Reads first line ( one line)\n",
    "with open('file.txt', 'r') as f:   \n",
    "    data = f.readline()\n",
    "    print(data)\n",
    "\n",
    "# readlines() - reads all the lines into a list \n",
    "with open('file.txt', 'r') as f:   \n",
    "    data = f.readlines()\n",
    "    print(data)\n",
    "\n",
    "# read(n) - reads n no. of charactors from the file \n",
    "with open('file.txt', 'r') as f:   \n",
    "    data = f.read(5)\n",
    "    data1 = f.read(50)\n",
    "    print(data)\n",
    "    print(data1)"
   ]
  },
  {
   "cell_type": "code",
   "execution_count": 29,
   "metadata": {},
   "outputs": [],
   "source": [
    "# WRITE\n",
    "# white(str) - write the content in the file remove exisiting one\n",
    "with open('example.txt', 'w') as f:\n",
    "    f.write(\"Hello, world!\")\n",
    "\n",
    "# writelines() – Writes a list of strings\n",
    "lines = [\"Line 1\\n\", \"Line 2\\n\"]\n",
    "with open('example.txt', 'w') as f:\n",
    "    f.writelines(lines)\n",
    "\n",
    "# Appenfing a file\n",
    "with open('example.txt', 'a') as f:\n",
    "    f.write(\"Appended line\\n\")\n",
    "\n"
   ]
  },
  {
   "cell_type": "code",
   "execution_count": 32,
   "metadata": {},
   "outputs": [
    {
     "name": "stdout",
     "output_type": "stream",
     "text": [
      "0\n",
      "5\n",
      "Full-\n"
     ]
    }
   ],
   "source": [
    "# Cursor Position: seek() and tell()\n",
    "with open('file.txt', 'r') as f:\n",
    "    print(f.tell())      # use to read the position of the cursor \n",
    "    f.read(5) \n",
    "    print(f.tell())       \n",
    "    f.seek(0)             # Moves the cursor to beginning\n",
    "    print(f.read(5))      \n"
   ]
  },
  {
   "cell_type": "code",
   "execution_count": 40,
   "metadata": {},
   "outputs": [
    {
     "name": "stdout",
     "output_type": "stream",
     "text": [
      "['Name', 'Age']\n",
      "['Alice', '25']\n",
      "['Bob', '30']\n",
      "Alice 25\n",
      "Bob 30\n"
     ]
    }
   ],
   "source": [
    "# CSV File Manipulation\n",
    "# Writing a csv file\n",
    "import csv\n",
    "\n",
    "data = [\n",
    "    [\"Name\", \"Age\"],\n",
    "    [\"Alice\", 25],\n",
    "    [\"Bob\", 30]\n",
    "]\n",
    "with open('data.csv', 'w', newline='') as file:   # it checks for file if not exist it creates one\n",
    "    writer = csv.writer(file)  # function to write in csv file (writer(file))\n",
    "    writer.writerows(data)    # function to write in rows in the assigned csv file (writerow(data))\n",
    "#    writer.writerows([\n",
    "#    [\"Name\", \"Age\"],\n",
    "#    [\"Alice\", 25],\n",
    "#    [\"Bob\", 30]\n",
    "#    ])\n",
    "\n",
    "# Reading a csv file\n",
    "with open('data.csv', 'r') as file:\n",
    "    reader = csv.reader(file)\n",
    "    for row in reader:\n",
    "        print(row)\n",
    "\n",
    "\n",
    "# Reading as dictionary with DictReader()\n",
    "# Reading as dictionaries\n",
    "with open('data.csv', 'r') as file:\n",
    "    reader = csv.DictReader(file)\n",
    "    for row in reader:\n",
    "        print(row['Name'], row['Age'])\n",
    "\n",
    "# Writing using dictionary\n",
    "with open('output.csv', 'w', newline='') as file:\n",
    "    fieldnames = ['Name', 'Age']\n",
    "    writer = csv.DictWriter(file, fieldnames=fieldnames)\n",
    "    writer.writeheader()\n",
    "    writer.writerow({'Name': 'Alice', 'Age': 25})"
   ]
  },
  {
   "cell_type": "code",
   "execution_count": 44,
   "metadata": {},
   "outputs": [
    {
     "name": "stdout",
     "output_type": "stream",
     "text": [
      "{'name': 'Bob', 'age': 30}\n",
      "{\n",
      "    \"name\": \"Bob\",\n",
      "    \"age\": 30\n",
      "}\n",
      "{'name': 'Alice', 'age': 25}\n"
     ]
    }
   ],
   "source": [
    "# Handling JSON Files \n",
    "import json\n",
    "\n",
    "# json.loads() - use to convert the JSON String to python object \n",
    "# json.dumb() - use to convert the Python object into JSON String\n",
    "\n",
    "# Convert JSON string to Python object\n",
    "json_str = '{\"name\": \"Bob\", \"age\": 30}'\n",
    "person = json.loads(json_str)\n",
    "print(person)    # Python object as result\n",
    "\n",
    "# Convert Python object to JSON string\n",
    "json_string = json.dumps(person, indent=4)\n",
    "print(json_string)   # JSON as result\n",
    "\n",
    "\n",
    "# Writing a JSON file\n",
    "data = {\"name\": \"Alice\", \"age\": 25}\n",
    "with open('data.json', 'w') as file:\n",
    "    json.dump(data, file, indent=4)   # Here, we converted the data into JSON format and then pushed into data.json file\n",
    "\n",
    "# Reading a JSON file\n",
    "with open('data.json', 'r') as file:\n",
    "    data = json.load(file)   # Here, we converted the data into python object and then display it\n",
    "print(data)"
   ]
  },
  {
   "cell_type": "code",
   "execution_count": 50,
   "metadata": {},
   "outputs": [],
   "source": [
    "# Writing Logs in Python\n",
    "# Use the logging module instead of print() for better log management.\n",
    "\n",
    "# Basic Logging\n",
    "import logging\n",
    "\n",
    "logging.basicConfig(filename='app.log', level=logging.INFO)  # Here log page configuration\n",
    "logging.info(\"This is an info message.\")\n",
    "logging.warning(\"This is a warning.\")\n",
    "logging.error(\"This is an error.\")\n",
    "\n",
    "# Custom Format\n",
    "#logging.basicConfig(\n",
    "#    filename='app.log',\n",
    "#    level=logging.DEBUG,\n",
    "#    format='%(asctime)s - %(levelname)s - %(message)s'\n",
    "#)"
   ]
  },
  {
   "cell_type": "markdown",
   "metadata": {},
   "source": [
    "# Exception Handling\n",
    "\n",
    "- | Exception           | Raised When...                     |\n",
    "- | ------------------- | ---------------------------------- |\n",
    "- | `ZeroDivisionError` | Division by zero                   |\n",
    "- | `ValueError`        | Invalid value (e.g., `int(\"abc\")`) |\n",
    "- | `TypeError`         | Operation on wrong data type       |\n",
    "- | `IndexError`        | Index out of range                 |\n",
    "- | `KeyError`          | Dict key not found                 |\n",
    "- | `FileNotFoundError` | File does not exist                |\n",
    "- | `IOError`           | General file I/O error             |\n",
    "- | `ImportError`       | Module not found                   |\n",
    "- | `AttributeError`    | Invalid attribute access           |\n",
    "- | `NameError`         | Variable not defined               |\n",
    "- | `IndentationError`  | Bad indentation                    |\n",
    "- | `SyntaxError`       | Invalid Python syntax              |\n",
    "- | `RuntimeError`      | Generic runtime error              |\n",
    "- | `StopIteration`     | No more items in iterator          |\n",
    "- | `AssertionError`    | `assert` statement fails           |\n",
    "- | `MemoryError`       | Program runs out of memory         |\n",
    "- | `ConnectionError`   | Network connection problem         |\n",
    "- | `TimeoutError`      | Operation exceeds time limit       |\n"
   ]
  },
  {
   "cell_type": "code",
   "execution_count": 5,
   "metadata": {},
   "outputs": [
    {
     "name": "stdout",
     "output_type": "stream",
     "text": [
      "You can't divide by zero!\n",
      "Division by zero is not allowed.\n",
      "Error occurred: division by zero\n"
     ]
    }
   ],
   "source": [
    "# try & except\n",
    "#Basic Syntax:\n",
    "try:\n",
    "    # Code that may raise an exception\n",
    "    result = 10 / 0\n",
    "except ZeroDivisionError:\n",
    "    print(\"You can't divide by zero!\")\n",
    "\n",
    "# Catching All Errors\n",
    "try:\n",
    "    a = 0\n",
    "    b = 10 / a\n",
    "except ZeroDivisionError:\n",
    "    print(\"Division by zero is not allowed.\")\n",
    "except ValueError:\n",
    "    print(\"Invalid input. Enter a number.\")\n",
    "\n",
    "#  Catch All Exceptions ( Best Way to use try exception in python )\n",
    "try:\n",
    "    a = 0\n",
    "    b = 10 / a\n",
    "except Exception as e:\n",
    "    print(\"Error occurred:\", e)"
   ]
  },
  {
   "cell_type": "code",
   "execution_count": 6,
   "metadata": {},
   "outputs": [
    {
     "name": "stdout",
     "output_type": "stream",
     "text": [
      "Success! Result is 5.0\n"
     ]
    }
   ],
   "source": [
    "# Try & Except + else Clause (Executes if no exception occurs)\n",
    "try:\n",
    "    result = 10 / 2\n",
    "except ZeroDivisionError:\n",
    "    print(\"Error\")\n",
    "else:     # Executes if no exception occurs\n",
    "    print(\"Success! Result is\", result)"
   ]
  },
  {
   "cell_type": "code",
   "execution_count": 8,
   "metadata": {},
   "outputs": [
    {
     "name": "stdout",
     "output_type": "stream",
     "text": [
      "Closing file...\n"
     ]
    }
   ],
   "source": [
    "# Try & Except + finally Clause (Always executes)\n",
    "try:\n",
    "    file = open(\"file.txt\", \"r\")\n",
    "    data = file.read()\n",
    "except FileNotFoundError:\n",
    "    print(\"File not found.\")\n",
    "finally:    # it runs anyhow weather the code runs or show any error \n",
    "    print(\"Closing file...\")\n",
    "    file.close()"
   ]
  },
  {
   "cell_type": "code",
   "execution_count": 1,
   "metadata": {},
   "outputs": [
    {
     "ename": "ValueError",
     "evalue": "Negative values are not allowed",
     "output_type": "error",
     "traceback": [
      "\u001b[31m---------------------------------------------------------------------------\u001b[39m",
      "\u001b[31mValueError\u001b[39m                                Traceback (most recent call last)",
      "\u001b[36mCell\u001b[39m\u001b[36m \u001b[39m\u001b[32mIn[1]\u001b[39m\u001b[32m, line 5\u001b[39m\n\u001b[32m      3\u001b[39m x = -\u001b[32m5\u001b[39m\n\u001b[32m      4\u001b[39m \u001b[38;5;28;01mif\u001b[39;00m x < \u001b[32m0\u001b[39m:\n\u001b[32m----> \u001b[39m\u001b[32m5\u001b[39m     \u001b[38;5;28;01mraise\u001b[39;00m \u001b[38;5;167;01mValueError\u001b[39;00m(\u001b[33m\"\u001b[39m\u001b[33mNegative values are not allowed\u001b[39m\u001b[33m\"\u001b[39m)\n",
      "\u001b[31mValueError\u001b[39m: Negative values are not allowed"
     ]
    }
   ],
   "source": [
    "# raise Keyword (Manually raise exceptions)\n",
    "# Raising built-in exceptions\n",
    "x = -5\n",
    "if x < 0:\n",
    "    raise ValueError(\"Negative values are not allowed\")  # raising an error \n"
   ]
  },
  {
   "cell_type": "code",
   "execution_count": 3,
   "metadata": {},
   "outputs": [
    {
     "ename": "ZeroDivisionError",
     "evalue": "Can't divide by zero!",
     "output_type": "error",
     "traceback": [
      "\u001b[31m---------------------------------------------------------------------------\u001b[39m",
      "\u001b[31mZeroDivisionError\u001b[39m                         Traceback (most recent call last)",
      "\u001b[36mCell\u001b[39m\u001b[36m \u001b[39m\u001b[32mIn[3]\u001b[39m\u001b[32m, line 6\u001b[39m\n\u001b[32m      4\u001b[39m         \u001b[38;5;28;01mraise\u001b[39;00m \u001b[38;5;167;01mZeroDivisionError\u001b[39;00m(\u001b[33m\"\u001b[39m\u001b[33mCan\u001b[39m\u001b[33m'\u001b[39m\u001b[33mt divide by zero!\u001b[39m\u001b[33m\"\u001b[39m)\n\u001b[32m      5\u001b[39m     \u001b[38;5;28;01mreturn\u001b[39;00m a / b\n\u001b[32m----> \u001b[39m\u001b[32m6\u001b[39m \u001b[43mdivide\u001b[49m\u001b[43m(\u001b[49m\u001b[32;43m5\u001b[39;49m\u001b[43m,\u001b[49m\u001b[43m \u001b[49m\u001b[32;43m0\u001b[39;49m\u001b[43m)\u001b[49m\n",
      "\u001b[36mCell\u001b[39m\u001b[36m \u001b[39m\u001b[32mIn[3]\u001b[39m\u001b[32m, line 4\u001b[39m, in \u001b[36mdivide\u001b[39m\u001b[34m(a, b)\u001b[39m\n\u001b[32m      2\u001b[39m \u001b[38;5;28;01mdef\u001b[39;00m\u001b[38;5;250m \u001b[39m\u001b[34mdivide\u001b[39m(a, b):\n\u001b[32m      3\u001b[39m     \u001b[38;5;28;01mif\u001b[39;00m b == \u001b[32m0\u001b[39m:\n\u001b[32m----> \u001b[39m\u001b[32m4\u001b[39m         \u001b[38;5;28;01mraise\u001b[39;00m \u001b[38;5;167;01mZeroDivisionError\u001b[39;00m(\u001b[33m\"\u001b[39m\u001b[33mCan\u001b[39m\u001b[33m'\u001b[39m\u001b[33mt divide by zero!\u001b[39m\u001b[33m\"\u001b[39m)\n\u001b[32m      5\u001b[39m     \u001b[38;5;28;01mreturn\u001b[39;00m a / b\n",
      "\u001b[31mZeroDivisionError\u001b[39m: Can't divide by zero!"
     ]
    }
   ],
   "source": [
    "# Raising in functions\n",
    "def divide(a, b):\n",
    "    if b == 0:\n",
    "        raise ZeroDivisionError(\"Can't divide by zero!\") \n",
    "    return a / b\n",
    "divide(5, 0)"
   ]
  },
  {
   "cell_type": "code",
   "execution_count": 6,
   "metadata": {},
   "outputs": [
    {
     "name": "stdout",
     "output_type": "stream",
     "text": [
      "Caught exception: You must be 18 or older to vote.\n",
      "Checked voting eligibility.\n",
      "Eligible to vote.\n",
      "No errors occurred.\n",
      "Checked voting eligibility.\n"
     ]
    }
   ],
   "source": [
    "# Example :\n",
    "class InvalidAge(Exception):\n",
    "    pass\n",
    "\n",
    "def vote(age):\n",
    "    if age < 18:\n",
    "        raise InvalidAge(\"You must be 18 or older to vote.\")\n",
    "    else:\n",
    "        return \"Eligible to vote.\"\n",
    "\n",
    "try:\n",
    "    print(vote(16))\n",
    "except InvalidAge as e:\n",
    "    print(\"Caught exception:\", e)\n",
    "else:\n",
    "    print(\"No errors occurred.\")\n",
    "finally:\n",
    "    print(\"Checked voting eligibility.\")\n",
    "\n",
    "try:\n",
    "    print(vote(19))\n",
    "except InvalidAge as e:\n",
    "    print(\"Caught exception:\", e)\n",
    "else:\n",
    "    print(\"No errors occurred.\")\n",
    "finally:\n",
    "    print(\"Checked voting eligibility.\")"
   ]
  }
 ],
 "metadata": {
  "kernelspec": {
   "display_name": "Python 3",
   "language": "python",
   "name": "python3"
  },
  "language_info": {
   "codemirror_mode": {
    "name": "ipython",
    "version": 3
   },
   "file_extension": ".py",
   "mimetype": "text/x-python",
   "name": "python",
   "nbconvert_exporter": "python",
   "pygments_lexer": "ipython3",
   "version": "3.13.3"
  }
 },
 "nbformat": 4,
 "nbformat_minor": 2
}
