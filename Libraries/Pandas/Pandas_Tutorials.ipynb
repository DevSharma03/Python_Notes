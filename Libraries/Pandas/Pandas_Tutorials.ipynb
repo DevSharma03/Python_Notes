{
 "cells": [
  {
   "cell_type": "code",
   "execution_count": 1,
   "metadata": {},
   "outputs": [],
   "source": [
    "import numpy as np\n",
    "import pandas as pd"
   ]
  },
  {
   "cell_type": "code",
   "execution_count": 2,
   "metadata": {},
   "outputs": [],
   "source": [
    "dict1 = {\n",
    "    \"Name\": [\"Harry\", \"Ron\", \"Hermione\", \"Neville\"],\n",
    "    \"Marks\": [92, 78, 89, 77],\n",
    "    \"City\": [\"Kolkata\", \"Delhi\", \"Mumbai\", \"Chennai\"]\n",
    "}"
   ]
  },
  {
   "cell_type": "code",
   "execution_count": 3,
   "metadata": {},
   "outputs": [],
   "source": [
    "df = pd.DataFrame(dict1) # Creating a DataFrame from a dictionary"
   ]
  },
  {
   "cell_type": "code",
   "execution_count": 4,
   "metadata": {},
   "outputs": [
    {
     "data": {
      "text/html": [
       "<div>\n",
       "<style scoped>\n",
       "    .dataframe tbody tr th:only-of-type {\n",
       "        vertical-align: middle;\n",
       "    }\n",
       "\n",
       "    .dataframe tbody tr th {\n",
       "        vertical-align: top;\n",
       "    }\n",
       "\n",
       "    .dataframe thead th {\n",
       "        text-align: right;\n",
       "    }\n",
       "</style>\n",
       "<table border=\"1\" class=\"dataframe\">\n",
       "  <thead>\n",
       "    <tr style=\"text-align: right;\">\n",
       "      <th></th>\n",
       "      <th>Name</th>\n",
       "      <th>Marks</th>\n",
       "      <th>City</th>\n",
       "    </tr>\n",
       "  </thead>\n",
       "  <tbody>\n",
       "    <tr>\n",
       "      <th>0</th>\n",
       "      <td>Harry</td>\n",
       "      <td>92</td>\n",
       "      <td>Kolkata</td>\n",
       "    </tr>\n",
       "    <tr>\n",
       "      <th>1</th>\n",
       "      <td>Ron</td>\n",
       "      <td>78</td>\n",
       "      <td>Delhi</td>\n",
       "    </tr>\n",
       "    <tr>\n",
       "      <th>2</th>\n",
       "      <td>Hermione</td>\n",
       "      <td>89</td>\n",
       "      <td>Mumbai</td>\n",
       "    </tr>\n",
       "    <tr>\n",
       "      <th>3</th>\n",
       "      <td>Neville</td>\n",
       "      <td>77</td>\n",
       "      <td>Chennai</td>\n",
       "    </tr>\n",
       "  </tbody>\n",
       "</table>\n",
       "</div>"
      ],
      "text/plain": [
       "       Name  Marks     City\n",
       "0     Harry     92  Kolkata\n",
       "1       Ron     78    Delhi\n",
       "2  Hermione     89   Mumbai\n",
       "3   Neville     77  Chennai"
      ]
     },
     "execution_count": 4,
     "metadata": {},
     "output_type": "execute_result"
    }
   ],
   "source": [
    "df "
   ]
  },
  {
   "cell_type": "code",
   "execution_count": 5,
   "metadata": {},
   "outputs": [],
   "source": [
    "df.to_csv(\"friends.csv\") # Save the DataFrame to a CSV file (with index)"
   ]
  },
  {
   "cell_type": "code",
   "execution_count": 6,
   "metadata": {},
   "outputs": [],
   "source": [
    "df.to_csv(\"friends_index_false.csv\", index=False) # Save the DataFrame to a CSV file without the index"
   ]
  },
  {
   "cell_type": "code",
   "execution_count": 7,
   "metadata": {},
   "outputs": [
    {
     "data": {
      "text/html": [
       "<div>\n",
       "<style scoped>\n",
       "    .dataframe tbody tr th:only-of-type {\n",
       "        vertical-align: middle;\n",
       "    }\n",
       "\n",
       "    .dataframe tbody tr th {\n",
       "        vertical-align: top;\n",
       "    }\n",
       "\n",
       "    .dataframe thead th {\n",
       "        text-align: right;\n",
       "    }\n",
       "</style>\n",
       "<table border=\"1\" class=\"dataframe\">\n",
       "  <thead>\n",
       "    <tr style=\"text-align: right;\">\n",
       "      <th></th>\n",
       "      <th>Name</th>\n",
       "      <th>Marks</th>\n",
       "      <th>City</th>\n",
       "    </tr>\n",
       "  </thead>\n",
       "  <tbody>\n",
       "    <tr>\n",
       "      <th>0</th>\n",
       "      <td>Harry</td>\n",
       "      <td>92</td>\n",
       "      <td>Kolkata</td>\n",
       "    </tr>\n",
       "    <tr>\n",
       "      <th>1</th>\n",
       "      <td>Ron</td>\n",
       "      <td>78</td>\n",
       "      <td>Delhi</td>\n",
       "    </tr>\n",
       "  </tbody>\n",
       "</table>\n",
       "</div>"
      ],
      "text/plain": [
       "    Name  Marks     City\n",
       "0  Harry     92  Kolkata\n",
       "1    Ron     78    Delhi"
      ]
     },
     "execution_count": 7,
     "metadata": {},
     "output_type": "execute_result"
    }
   ],
   "source": [
    "df.head(2) # Display the first 2 rows"
   ]
  },
  {
   "cell_type": "code",
   "execution_count": 8,
   "metadata": {},
   "outputs": [
    {
     "data": {
      "text/html": [
       "<div>\n",
       "<style scoped>\n",
       "    .dataframe tbody tr th:only-of-type {\n",
       "        vertical-align: middle;\n",
       "    }\n",
       "\n",
       "    .dataframe tbody tr th {\n",
       "        vertical-align: top;\n",
       "    }\n",
       "\n",
       "    .dataframe thead th {\n",
       "        text-align: right;\n",
       "    }\n",
       "</style>\n",
       "<table border=\"1\" class=\"dataframe\">\n",
       "  <thead>\n",
       "    <tr style=\"text-align: right;\">\n",
       "      <th></th>\n",
       "      <th>Name</th>\n",
       "      <th>Marks</th>\n",
       "      <th>City</th>\n",
       "    </tr>\n",
       "  </thead>\n",
       "  <tbody>\n",
       "    <tr>\n",
       "      <th>2</th>\n",
       "      <td>Hermione</td>\n",
       "      <td>89</td>\n",
       "      <td>Mumbai</td>\n",
       "    </tr>\n",
       "    <tr>\n",
       "      <th>3</th>\n",
       "      <td>Neville</td>\n",
       "      <td>77</td>\n",
       "      <td>Chennai</td>\n",
       "    </tr>\n",
       "  </tbody>\n",
       "</table>\n",
       "</div>"
      ],
      "text/plain": [
       "       Name  Marks     City\n",
       "2  Hermione     89   Mumbai\n",
       "3   Neville     77  Chennai"
      ]
     },
     "execution_count": 8,
     "metadata": {},
     "output_type": "execute_result"
    }
   ],
   "source": [
    "df.tail(2) # Display the last 2 rows"
   ]
  },
  {
   "cell_type": "code",
   "execution_count": 9,
   "metadata": {},
   "outputs": [
    {
     "data": {
      "text/html": [
       "<div>\n",
       "<style scoped>\n",
       "    .dataframe tbody tr th:only-of-type {\n",
       "        vertical-align: middle;\n",
       "    }\n",
       "\n",
       "    .dataframe tbody tr th {\n",
       "        vertical-align: top;\n",
       "    }\n",
       "\n",
       "    .dataframe thead th {\n",
       "        text-align: right;\n",
       "    }\n",
       "</style>\n",
       "<table border=\"1\" class=\"dataframe\">\n",
       "  <thead>\n",
       "    <tr style=\"text-align: right;\">\n",
       "      <th></th>\n",
       "      <th>Marks</th>\n",
       "    </tr>\n",
       "  </thead>\n",
       "  <tbody>\n",
       "    <tr>\n",
       "      <th>count</th>\n",
       "      <td>4.000000</td>\n",
       "    </tr>\n",
       "    <tr>\n",
       "      <th>mean</th>\n",
       "      <td>84.000000</td>\n",
       "    </tr>\n",
       "    <tr>\n",
       "      <th>std</th>\n",
       "      <td>7.615773</td>\n",
       "    </tr>\n",
       "    <tr>\n",
       "      <th>min</th>\n",
       "      <td>77.000000</td>\n",
       "    </tr>\n",
       "    <tr>\n",
       "      <th>25%</th>\n",
       "      <td>77.750000</td>\n",
       "    </tr>\n",
       "    <tr>\n",
       "      <th>50%</th>\n",
       "      <td>83.500000</td>\n",
       "    </tr>\n",
       "    <tr>\n",
       "      <th>75%</th>\n",
       "      <td>89.750000</td>\n",
       "    </tr>\n",
       "    <tr>\n",
       "      <th>max</th>\n",
       "      <td>92.000000</td>\n",
       "    </tr>\n",
       "  </tbody>\n",
       "</table>\n",
       "</div>"
      ],
      "text/plain": [
       "           Marks\n",
       "count   4.000000\n",
       "mean   84.000000\n",
       "std     7.615773\n",
       "min    77.000000\n",
       "25%    77.750000\n",
       "50%    83.500000\n",
       "75%    89.750000\n",
       "max    92.000000"
      ]
     },
     "execution_count": 9,
     "metadata": {},
     "output_type": "execute_result"
    }
   ],
   "source": [
    "df.describe() # Display the statistical analysis of the DataFrame"
   ]
  },
  {
   "cell_type": "code",
   "execution_count": 10,
   "metadata": {},
   "outputs": [],
   "source": [
    "Practice = pd.read_csv(\"practice.csv\") # Read a CSV file"
   ]
  },
  {
   "cell_type": "code",
   "execution_count": 11,
   "metadata": {},
   "outputs": [
    {
     "data": {
      "text/html": [
       "<div>\n",
       "<style scoped>\n",
       "    .dataframe tbody tr th:only-of-type {\n",
       "        vertical-align: middle;\n",
       "    }\n",
       "\n",
       "    .dataframe tbody tr th {\n",
       "        vertical-align: top;\n",
       "    }\n",
       "\n",
       "    .dataframe thead th {\n",
       "        text-align: right;\n",
       "    }\n",
       "</style>\n",
       "<table border=\"1\" class=\"dataframe\">\n",
       "  <thead>\n",
       "    <tr style=\"text-align: right;\">\n",
       "      <th></th>\n",
       "      <th>Unnamed: 0</th>\n",
       "      <th>Train No</th>\n",
       "      <th>Speed</th>\n",
       "      <th>City</th>\n",
       "    </tr>\n",
       "  </thead>\n",
       "  <tbody>\n",
       "    <tr>\n",
       "      <th>0</th>\n",
       "      <td>0</td>\n",
       "      <td>12345</td>\n",
       "      <td>100</td>\n",
       "      <td>Pune</td>\n",
       "    </tr>\n",
       "    <tr>\n",
       "      <th>1</th>\n",
       "      <td>1</td>\n",
       "      <td>21345</td>\n",
       "      <td>89</td>\n",
       "      <td>Nagpur</td>\n",
       "    </tr>\n",
       "    <tr>\n",
       "      <th>2</th>\n",
       "      <td>2</td>\n",
       "      <td>31245</td>\n",
       "      <td>76</td>\n",
       "      <td>Mumbai</td>\n",
       "    </tr>\n",
       "    <tr>\n",
       "      <th>3</th>\n",
       "      <td>3</td>\n",
       "      <td>41235</td>\n",
       "      <td>48</td>\n",
       "      <td>Delhi</td>\n",
       "    </tr>\n",
       "    <tr>\n",
       "      <th>4</th>\n",
       "      <td>4</td>\n",
       "      <td>51234</td>\n",
       "      <td>81</td>\n",
       "      <td>Nashisk</td>\n",
       "    </tr>\n",
       "  </tbody>\n",
       "</table>\n",
       "</div>"
      ],
      "text/plain": [
       "   Unnamed: 0  Train No  Speed     City\n",
       "0           0     12345    100    Pune \n",
       "1           1     21345     89   Nagpur\n",
       "2           2     31245     76   Mumbai\n",
       "3           3     41235     48    Delhi\n",
       "4           4     51234     81  Nashisk"
      ]
     },
     "execution_count": 11,
     "metadata": {},
     "output_type": "execute_result"
    }
   ],
   "source": [
    "Practice"
   ]
  },
  {
   "cell_type": "code",
   "execution_count": 12,
   "metadata": {},
   "outputs": [
    {
     "data": {
      "text/plain": [
       "0    100\n",
       "1     89\n",
       "2     76\n",
       "3     48\n",
       "4     81\n",
       "Name: Speed, dtype: int64"
      ]
     },
     "execution_count": 12,
     "metadata": {},
     "output_type": "execute_result"
    }
   ],
   "source": [
    "Practice[\"Speed\"] # Display the Speed column"
   ]
  },
  {
   "cell_type": "code",
   "execution_count": 42,
   "metadata": {},
   "outputs": [
    {
     "data": {
      "text/plain": [
       "np.int64(100)"
      ]
     },
     "execution_count": 42,
     "metadata": {},
     "output_type": "execute_result"
    }
   ],
   "source": [
    "Practice[\"Speed\"][0] # Display the first element of the Speed column"
   ]
  },
  {
   "cell_type": "code",
   "execution_count": 14,
   "metadata": {},
   "outputs": [
    {
     "name": "stderr",
     "output_type": "stream",
     "text": [
      "C:\\Users\\Dev\\AppData\\Local\\Temp\\ipykernel_42328\\1106167978.py:1: SettingWithCopyWarning: \n",
      "A value is trying to be set on a copy of a slice from a DataFrame\n",
      "\n",
      "See the caveats in the documentation: https://pandas.pydata.org/pandas-docs/stable/user_guide/indexing.html#returning-a-view-versus-a-copy\n",
      "  Practice[\"Speed\"][0] = 100 # Change the first element of the Speed column\n"
     ]
    }
   ],
   "source": [
    "Practice[\"Speed\"][0] = 100 # Change the first element of the Speed column"
   ]
  },
  {
   "cell_type": "code",
   "execution_count": 15,
   "metadata": {},
   "outputs": [
    {
     "data": {
      "text/plain": [
       "np.int64(100)"
      ]
     },
     "execution_count": 15,
     "metadata": {},
     "output_type": "execute_result"
    }
   ],
   "source": [
    "Practice[\"Speed\"][0] # Display the first element of the Speed column"
   ]
  },
  {
   "cell_type": "code",
   "execution_count": 16,
   "metadata": {},
   "outputs": [],
   "source": [
    "Practice.to_csv(\"practice.csv\") # Save the DataFrame to a CSV file"
   ]
  },
  {
   "cell_type": "code",
   "execution_count": 17,
   "metadata": {},
   "outputs": [],
   "source": [
    "ser = pd.Series(np.random.rand(34)) # Create a Series"
   ]
  },
  {
   "cell_type": "code",
   "execution_count": 18,
   "metadata": {},
   "outputs": [
    {
     "data": {
      "text/plain": [
       "0     0.925498\n",
       "1     0.767434\n",
       "2     0.089307\n",
       "3     0.204574\n",
       "4     0.679589\n",
       "5     0.009930\n",
       "6     0.595348\n",
       "7     0.027520\n",
       "8     0.834442\n",
       "9     0.902515\n",
       "10    0.448169\n",
       "11    0.124822\n",
       "12    0.478148\n",
       "13    0.332586\n",
       "14    0.520534\n",
       "15    0.554538\n",
       "16    0.865406\n",
       "17    0.782949\n",
       "18    0.559870\n",
       "19    0.192914\n",
       "20    0.355984\n",
       "21    0.875553\n",
       "22    0.461328\n",
       "23    0.210954\n",
       "24    0.643532\n",
       "25    0.243625\n",
       "26    0.408327\n",
       "27    0.030103\n",
       "28    0.721850\n",
       "29    0.049469\n",
       "30    0.082144\n",
       "31    0.679706\n",
       "32    0.323685\n",
       "33    0.442065\n",
       "dtype: float64"
      ]
     },
     "execution_count": 18,
     "metadata": {},
     "output_type": "execute_result"
    }
   ],
   "source": [
    "ser"
   ]
  },
  {
   "cell_type": "code",
   "execution_count": 19,
   "metadata": {},
   "outputs": [
    {
     "data": {
      "text/plain": [
       "pandas.core.series.Series"
      ]
     },
     "execution_count": 19,
     "metadata": {},
     "output_type": "execute_result"
    }
   ],
   "source": [
    "type(ser)  # Display the type of the Series "
   ]
  },
  {
   "cell_type": "code",
   "execution_count": 20,
   "metadata": {},
   "outputs": [],
   "source": [
    "newdf = pd.DataFrame(np.random.rand(334, 5), index=np.arange(334)) # Create a DataFrame with 334 rows and 5 columns "
   ]
  },
  {
   "cell_type": "code",
   "execution_count": 21,
   "metadata": {},
   "outputs": [
    {
     "data": {
      "text/html": [
       "<div>\n",
       "<style scoped>\n",
       "    .dataframe tbody tr th:only-of-type {\n",
       "        vertical-align: middle;\n",
       "    }\n",
       "\n",
       "    .dataframe tbody tr th {\n",
       "        vertical-align: top;\n",
       "    }\n",
       "\n",
       "    .dataframe thead th {\n",
       "        text-align: right;\n",
       "    }\n",
       "</style>\n",
       "<table border=\"1\" class=\"dataframe\">\n",
       "  <thead>\n",
       "    <tr style=\"text-align: right;\">\n",
       "      <th></th>\n",
       "      <th>0</th>\n",
       "      <th>1</th>\n",
       "      <th>2</th>\n",
       "      <th>3</th>\n",
       "      <th>4</th>\n",
       "    </tr>\n",
       "  </thead>\n",
       "  <tbody>\n",
       "    <tr>\n",
       "      <th>0</th>\n",
       "      <td>0.935662</td>\n",
       "      <td>0.951350</td>\n",
       "      <td>0.706825</td>\n",
       "      <td>0.445517</td>\n",
       "      <td>0.326447</td>\n",
       "    </tr>\n",
       "    <tr>\n",
       "      <th>1</th>\n",
       "      <td>0.073751</td>\n",
       "      <td>0.759603</td>\n",
       "      <td>0.679595</td>\n",
       "      <td>0.262759</td>\n",
       "      <td>0.665287</td>\n",
       "    </tr>\n",
       "    <tr>\n",
       "      <th>2</th>\n",
       "      <td>0.994700</td>\n",
       "      <td>0.298295</td>\n",
       "      <td>0.730374</td>\n",
       "      <td>0.484977</td>\n",
       "      <td>0.584885</td>\n",
       "    </tr>\n",
       "    <tr>\n",
       "      <th>3</th>\n",
       "      <td>0.084266</td>\n",
       "      <td>0.069047</td>\n",
       "      <td>0.094676</td>\n",
       "      <td>0.625589</td>\n",
       "      <td>0.116844</td>\n",
       "    </tr>\n",
       "    <tr>\n",
       "      <th>4</th>\n",
       "      <td>0.657389</td>\n",
       "      <td>0.783852</td>\n",
       "      <td>0.589908</td>\n",
       "      <td>0.597883</td>\n",
       "      <td>0.790147</td>\n",
       "    </tr>\n",
       "    <tr>\n",
       "      <th>...</th>\n",
       "      <td>...</td>\n",
       "      <td>...</td>\n",
       "      <td>...</td>\n",
       "      <td>...</td>\n",
       "      <td>...</td>\n",
       "    </tr>\n",
       "    <tr>\n",
       "      <th>329</th>\n",
       "      <td>0.988706</td>\n",
       "      <td>0.767065</td>\n",
       "      <td>0.297549</td>\n",
       "      <td>0.282334</td>\n",
       "      <td>0.881294</td>\n",
       "    </tr>\n",
       "    <tr>\n",
       "      <th>330</th>\n",
       "      <td>0.235060</td>\n",
       "      <td>0.177765</td>\n",
       "      <td>0.813673</td>\n",
       "      <td>0.638255</td>\n",
       "      <td>0.027898</td>\n",
       "    </tr>\n",
       "    <tr>\n",
       "      <th>331</th>\n",
       "      <td>0.195370</td>\n",
       "      <td>0.058066</td>\n",
       "      <td>0.546325</td>\n",
       "      <td>0.269286</td>\n",
       "      <td>0.672166</td>\n",
       "    </tr>\n",
       "    <tr>\n",
       "      <th>332</th>\n",
       "      <td>0.961380</td>\n",
       "      <td>0.821895</td>\n",
       "      <td>0.454688</td>\n",
       "      <td>0.175915</td>\n",
       "      <td>0.664354</td>\n",
       "    </tr>\n",
       "    <tr>\n",
       "      <th>333</th>\n",
       "      <td>0.458889</td>\n",
       "      <td>0.710466</td>\n",
       "      <td>0.839311</td>\n",
       "      <td>0.779422</td>\n",
       "      <td>0.782827</td>\n",
       "    </tr>\n",
       "  </tbody>\n",
       "</table>\n",
       "<p>334 rows × 5 columns</p>\n",
       "</div>"
      ],
      "text/plain": [
       "            0         1         2         3         4\n",
       "0    0.935662  0.951350  0.706825  0.445517  0.326447\n",
       "1    0.073751  0.759603  0.679595  0.262759  0.665287\n",
       "2    0.994700  0.298295  0.730374  0.484977  0.584885\n",
       "3    0.084266  0.069047  0.094676  0.625589  0.116844\n",
       "4    0.657389  0.783852  0.589908  0.597883  0.790147\n",
       "..        ...       ...       ...       ...       ...\n",
       "329  0.988706  0.767065  0.297549  0.282334  0.881294\n",
       "330  0.235060  0.177765  0.813673  0.638255  0.027898\n",
       "331  0.195370  0.058066  0.546325  0.269286  0.672166\n",
       "332  0.961380  0.821895  0.454688  0.175915  0.664354\n",
       "333  0.458889  0.710466  0.839311  0.779422  0.782827\n",
       "\n",
       "[334 rows x 5 columns]"
      ]
     },
     "execution_count": 21,
     "metadata": {},
     "output_type": "execute_result"
    }
   ],
   "source": [
    "newdf"
   ]
  },
  {
   "cell_type": "code",
   "execution_count": 22,
   "metadata": {},
   "outputs": [
    {
     "data": {
      "text/plain": [
       "pandas.core.frame.DataFrame"
      ]
     },
     "execution_count": 22,
     "metadata": {},
     "output_type": "execute_result"
    }
   ],
   "source": [
    "type(newdf) # Display the type of the DataFrame"
   ]
  },
  {
   "cell_type": "code",
   "execution_count": 23,
   "metadata": {},
   "outputs": [
    {
     "data": {
      "text/html": [
       "<div>\n",
       "<style scoped>\n",
       "    .dataframe tbody tr th:only-of-type {\n",
       "        vertical-align: middle;\n",
       "    }\n",
       "\n",
       "    .dataframe tbody tr th {\n",
       "        vertical-align: top;\n",
       "    }\n",
       "\n",
       "    .dataframe thead th {\n",
       "        text-align: right;\n",
       "    }\n",
       "</style>\n",
       "<table border=\"1\" class=\"dataframe\">\n",
       "  <thead>\n",
       "    <tr style=\"text-align: right;\">\n",
       "      <th></th>\n",
       "      <th>0</th>\n",
       "      <th>1</th>\n",
       "      <th>2</th>\n",
       "      <th>3</th>\n",
       "      <th>4</th>\n",
       "    </tr>\n",
       "  </thead>\n",
       "  <tbody>\n",
       "    <tr>\n",
       "      <th>count</th>\n",
       "      <td>334.000000</td>\n",
       "      <td>334.000000</td>\n",
       "      <td>334.000000</td>\n",
       "      <td>334.000000</td>\n",
       "      <td>334.000000</td>\n",
       "    </tr>\n",
       "    <tr>\n",
       "      <th>mean</th>\n",
       "      <td>0.499297</td>\n",
       "      <td>0.498884</td>\n",
       "      <td>0.494718</td>\n",
       "      <td>0.498628</td>\n",
       "      <td>0.512342</td>\n",
       "    </tr>\n",
       "    <tr>\n",
       "      <th>std</th>\n",
       "      <td>0.293527</td>\n",
       "      <td>0.294688</td>\n",
       "      <td>0.293481</td>\n",
       "      <td>0.294403</td>\n",
       "      <td>0.288607</td>\n",
       "    </tr>\n",
       "    <tr>\n",
       "      <th>min</th>\n",
       "      <td>0.001047</td>\n",
       "      <td>0.001327</td>\n",
       "      <td>0.000159</td>\n",
       "      <td>0.001612</td>\n",
       "      <td>0.001001</td>\n",
       "    </tr>\n",
       "    <tr>\n",
       "      <th>25%</th>\n",
       "      <td>0.220444</td>\n",
       "      <td>0.230162</td>\n",
       "      <td>0.247130</td>\n",
       "      <td>0.231495</td>\n",
       "      <td>0.286541</td>\n",
       "    </tr>\n",
       "    <tr>\n",
       "      <th>50%</th>\n",
       "      <td>0.496429</td>\n",
       "      <td>0.493305</td>\n",
       "      <td>0.456942</td>\n",
       "      <td>0.503645</td>\n",
       "      <td>0.514390</td>\n",
       "    </tr>\n",
       "    <tr>\n",
       "      <th>75%</th>\n",
       "      <td>0.755143</td>\n",
       "      <td>0.763808</td>\n",
       "      <td>0.761131</td>\n",
       "      <td>0.747216</td>\n",
       "      <td>0.769128</td>\n",
       "    </tr>\n",
       "    <tr>\n",
       "      <th>max</th>\n",
       "      <td>0.994700</td>\n",
       "      <td>0.999609</td>\n",
       "      <td>0.999981</td>\n",
       "      <td>0.999858</td>\n",
       "      <td>0.996640</td>\n",
       "    </tr>\n",
       "  </tbody>\n",
       "</table>\n",
       "</div>"
      ],
      "text/plain": [
       "                0           1           2           3           4\n",
       "count  334.000000  334.000000  334.000000  334.000000  334.000000\n",
       "mean     0.499297    0.498884    0.494718    0.498628    0.512342\n",
       "std      0.293527    0.294688    0.293481    0.294403    0.288607\n",
       "min      0.001047    0.001327    0.000159    0.001612    0.001001\n",
       "25%      0.220444    0.230162    0.247130    0.231495    0.286541\n",
       "50%      0.496429    0.493305    0.456942    0.503645    0.514390\n",
       "75%      0.755143    0.763808    0.761131    0.747216    0.769128\n",
       "max      0.994700    0.999609    0.999981    0.999858    0.996640"
      ]
     },
     "execution_count": 23,
     "metadata": {},
     "output_type": "execute_result"
    }
   ],
   "source": [
    "newdf.describe() # Display the statistical analysis of the DataFrame"
   ]
  },
  {
   "cell_type": "code",
   "execution_count": 24,
   "metadata": {},
   "outputs": [
    {
     "data": {
      "text/html": [
       "<div>\n",
       "<style scoped>\n",
       "    .dataframe tbody tr th:only-of-type {\n",
       "        vertical-align: middle;\n",
       "    }\n",
       "\n",
       "    .dataframe tbody tr th {\n",
       "        vertical-align: top;\n",
       "    }\n",
       "\n",
       "    .dataframe thead th {\n",
       "        text-align: right;\n",
       "    }\n",
       "</style>\n",
       "<table border=\"1\" class=\"dataframe\">\n",
       "  <thead>\n",
       "    <tr style=\"text-align: right;\">\n",
       "      <th></th>\n",
       "      <th>0</th>\n",
       "      <th>1</th>\n",
       "      <th>2</th>\n",
       "      <th>3</th>\n",
       "      <th>4</th>\n",
       "    </tr>\n",
       "  </thead>\n",
       "  <tbody>\n",
       "    <tr>\n",
       "      <th>0</th>\n",
       "      <td>0.935662</td>\n",
       "      <td>0.951350</td>\n",
       "      <td>0.706825</td>\n",
       "      <td>0.445517</td>\n",
       "      <td>0.326447</td>\n",
       "    </tr>\n",
       "    <tr>\n",
       "      <th>1</th>\n",
       "      <td>0.073751</td>\n",
       "      <td>0.759603</td>\n",
       "      <td>0.679595</td>\n",
       "      <td>0.262759</td>\n",
       "      <td>0.665287</td>\n",
       "    </tr>\n",
       "  </tbody>\n",
       "</table>\n",
       "</div>"
      ],
      "text/plain": [
       "          0         1         2         3         4\n",
       "0  0.935662  0.951350  0.706825  0.445517  0.326447\n",
       "1  0.073751  0.759603  0.679595  0.262759  0.665287"
      ]
     },
     "execution_count": 24,
     "metadata": {},
     "output_type": "execute_result"
    }
   ],
   "source": [
    "newdf.head(2) # Display the first 2 rows"
   ]
  },
  {
   "cell_type": "code",
   "execution_count": 25,
   "metadata": {},
   "outputs": [
    {
     "data": {
      "text/plain": [
       "0    float64\n",
       "1    float64\n",
       "2    float64\n",
       "3    float64\n",
       "4    float64\n",
       "dtype: object"
      ]
     },
     "execution_count": 25,
     "metadata": {},
     "output_type": "execute_result"
    }
   ],
   "source": [
    "newdf.dtypes # Display the data types of the DataFrame"
   ]
  },
  {
   "cell_type": "code",
   "execution_count": 26,
   "metadata": {},
   "outputs": [
    {
     "name": "stderr",
     "output_type": "stream",
     "text": [
      "C:\\Users\\Dev\\AppData\\Local\\Temp\\ipykernel_42328\\4026468265.py:1: FutureWarning: ChainedAssignmentError: behaviour will change in pandas 3.0!\n",
      "You are setting values through chained assignment. Currently this works in certain cases, but when using Copy-on-Write (which will become the default behaviour in pandas 3.0) this will never work to update the original DataFrame or Series, because the intermediate object on which we are setting values will behave as a copy.\n",
      "A typical example is when you are setting values in a column of a DataFrame, like:\n",
      "\n",
      "df[\"col\"][row_indexer] = value\n",
      "\n",
      "Use `df.loc[row_indexer, \"col\"] = values` instead, to perform the assignment in a single step and ensure this keeps updating the original `df`.\n",
      "\n",
      "See the caveats in the documentation: https://pandas.pydata.org/pandas-docs/stable/user_guide/indexing.html#returning-a-view-versus-a-copy\n",
      "\n",
      "  newdf[0][0] = \"Harry\" # Change the first element of the first column\n",
      "C:\\Users\\Dev\\AppData\\Local\\Temp\\ipykernel_42328\\4026468265.py:1: FutureWarning: Setting an item of incompatible dtype is deprecated and will raise an error in a future version of pandas. Value 'Harry' has dtype incompatible with float64, please explicitly cast to a compatible dtype first.\n",
      "  newdf[0][0] = \"Harry\" # Change the first element of the first column\n"
     ]
    }
   ],
   "source": [
    "newdf[0][0] = \"Harry\" # Change the first element of the first column"
   ]
  },
  {
   "cell_type": "code",
   "execution_count": 27,
   "metadata": {},
   "outputs": [
    {
     "data": {
      "text/html": [
       "<div>\n",
       "<style scoped>\n",
       "    .dataframe tbody tr th:only-of-type {\n",
       "        vertical-align: middle;\n",
       "    }\n",
       "\n",
       "    .dataframe tbody tr th {\n",
       "        vertical-align: top;\n",
       "    }\n",
       "\n",
       "    .dataframe thead th {\n",
       "        text-align: right;\n",
       "    }\n",
       "</style>\n",
       "<table border=\"1\" class=\"dataframe\">\n",
       "  <thead>\n",
       "    <tr style=\"text-align: right;\">\n",
       "      <th></th>\n",
       "      <th>0</th>\n",
       "      <th>1</th>\n",
       "      <th>2</th>\n",
       "      <th>3</th>\n",
       "      <th>4</th>\n",
       "    </tr>\n",
       "  </thead>\n",
       "  <tbody>\n",
       "    <tr>\n",
       "      <th>0</th>\n",
       "      <td>Harry</td>\n",
       "      <td>0.951350</td>\n",
       "      <td>0.706825</td>\n",
       "      <td>0.445517</td>\n",
       "      <td>0.326447</td>\n",
       "    </tr>\n",
       "    <tr>\n",
       "      <th>1</th>\n",
       "      <td>0.073751</td>\n",
       "      <td>0.759603</td>\n",
       "      <td>0.679595</td>\n",
       "      <td>0.262759</td>\n",
       "      <td>0.665287</td>\n",
       "    </tr>\n",
       "  </tbody>\n",
       "</table>\n",
       "</div>"
      ],
      "text/plain": [
       "          0         1         2         3         4\n",
       "0     Harry  0.951350  0.706825  0.445517  0.326447\n",
       "1  0.073751  0.759603  0.679595  0.262759  0.665287"
      ]
     },
     "execution_count": 27,
     "metadata": {},
     "output_type": "execute_result"
    }
   ],
   "source": [
    "newdf.head(2) # Display the first 2 rows"
   ]
  },
  {
   "cell_type": "code",
   "execution_count": 28,
   "metadata": {},
   "outputs": [
    {
     "data": {
      "text/plain": [
       "0     object\n",
       "1    float64\n",
       "2    float64\n",
       "3    float64\n",
       "4    float64\n",
       "dtype: object"
      ]
     },
     "execution_count": 28,
     "metadata": {},
     "output_type": "execute_result"
    }
   ],
   "source": [
    "newdf.dtypes # Display the data types of the DataFrame"
   ]
  },
  {
   "cell_type": "code",
   "execution_count": 29,
   "metadata": {},
   "outputs": [
    {
     "data": {
      "text/plain": [
       "Index([  0,   1,   2,   3,   4,   5,   6,   7,   8,   9,\n",
       "       ...\n",
       "       324, 325, 326, 327, 328, 329, 330, 331, 332, 333],\n",
       "      dtype='int64', length=334)"
      ]
     },
     "execution_count": 29,
     "metadata": {},
     "output_type": "execute_result"
    }
   ],
   "source": [
    "newdf.index # Display the index of the DataFrame"
   ]
  },
  {
   "cell_type": "code",
   "execution_count": 30,
   "metadata": {},
   "outputs": [
    {
     "data": {
      "text/plain": [
       "RangeIndex(start=0, stop=5, step=1)"
      ]
     },
     "execution_count": 30,
     "metadata": {},
     "output_type": "execute_result"
    }
   ],
   "source": [
    "newdf.columns # Display the columns of the DataFrame"
   ]
  },
  {
   "cell_type": "code",
   "execution_count": 31,
   "metadata": {},
   "outputs": [
    {
     "data": {
      "text/plain": [
       "array([['Harry', 0.9513501277103921, 0.7068251876485947,\n",
       "        0.44551742767834024, 0.32644688311315395],\n",
       "       [0.07375067713887873, 0.7596034702102572, 0.6795947230210168,\n",
       "        0.2627585962010305, 0.6652865624771326],\n",
       "       [0.9946997082673701, 0.298294841269772, 0.7303736154714501,\n",
       "        0.4849767052897427, 0.584884851328881],\n",
       "       ...,\n",
       "       [0.19536990987983371, 0.05806626446569951, 0.5463253709279763,\n",
       "        0.26928593587142347, 0.6721661507199297],\n",
       "       [0.9613804284917215, 0.8218947195990915, 0.4546881839859953,\n",
       "        0.17591479094562634, 0.664354010351284],\n",
       "       [0.4588892091163713, 0.7104656312712937, 0.8393107766919309,\n",
       "        0.7794216096040755, 0.7828271963819627]],\n",
       "      shape=(334, 5), dtype=object)"
      ]
     },
     "execution_count": 31,
     "metadata": {},
     "output_type": "execute_result"
    }
   ],
   "source": [
    "newdf.to_numpy() # Convert the DataFrame to a NumPy array"
   ]
  },
  {
   "cell_type": "code",
   "execution_count": 32,
   "metadata": {},
   "outputs": [],
   "source": [
    "newdf[0][0] = 34 # Change the first element of the first column"
   ]
  },
  {
   "cell_type": "code",
   "execution_count": 33,
   "metadata": {},
   "outputs": [
    {
     "data": {
      "text/html": [
       "<div>\n",
       "<style scoped>\n",
       "    .dataframe tbody tr th:only-of-type {\n",
       "        vertical-align: middle;\n",
       "    }\n",
       "\n",
       "    .dataframe tbody tr th {\n",
       "        vertical-align: top;\n",
       "    }\n",
       "\n",
       "    .dataframe thead th {\n",
       "        text-align: right;\n",
       "    }\n",
       "</style>\n",
       "<table border=\"1\" class=\"dataframe\">\n",
       "  <thead>\n",
       "    <tr style=\"text-align: right;\">\n",
       "      <th></th>\n",
       "      <th>0</th>\n",
       "      <th>1</th>\n",
       "      <th>2</th>\n",
       "      <th>3</th>\n",
       "      <th>4</th>\n",
       "    </tr>\n",
       "  </thead>\n",
       "  <tbody>\n",
       "    <tr>\n",
       "      <th>0</th>\n",
       "      <td>34</td>\n",
       "      <td>0.951350</td>\n",
       "      <td>0.706825</td>\n",
       "      <td>0.445517</td>\n",
       "      <td>0.326447</td>\n",
       "    </tr>\n",
       "    <tr>\n",
       "      <th>1</th>\n",
       "      <td>0.073751</td>\n",
       "      <td>0.759603</td>\n",
       "      <td>0.679595</td>\n",
       "      <td>0.262759</td>\n",
       "      <td>0.665287</td>\n",
       "    </tr>\n",
       "  </tbody>\n",
       "</table>\n",
       "</div>"
      ],
      "text/plain": [
       "          0         1         2         3         4\n",
       "0        34  0.951350  0.706825  0.445517  0.326447\n",
       "1  0.073751  0.759603  0.679595  0.262759  0.665287"
      ]
     },
     "execution_count": 33,
     "metadata": {},
     "output_type": "execute_result"
    }
   ],
   "source": [
    "newdf.head(2) # Display the first 2 rows"
   ]
  },
  {
   "cell_type": "code",
   "execution_count": 34,
   "metadata": {},
   "outputs": [
    {
     "data": {
      "text/plain": [
       "<bound method DataFrame.to_numpy of             0         1         2         3         4\n",
       "0          34  0.951350  0.706825  0.445517  0.326447\n",
       "1    0.073751  0.759603  0.679595  0.262759  0.665287\n",
       "2      0.9947  0.298295  0.730374  0.484977  0.584885\n",
       "3    0.084266  0.069047  0.094676  0.625589  0.116844\n",
       "4    0.657389  0.783852  0.589908  0.597883  0.790147\n",
       "..        ...       ...       ...       ...       ...\n",
       "329  0.988706  0.767065  0.297549  0.282334  0.881294\n",
       "330   0.23506  0.177765  0.813673  0.638255  0.027898\n",
       "331   0.19537  0.058066  0.546325  0.269286  0.672166\n",
       "332   0.96138  0.821895  0.454688  0.175915  0.664354\n",
       "333  0.458889  0.710466  0.839311  0.779422  0.782827\n",
       "\n",
       "[334 rows x 5 columns]>"
      ]
     },
     "execution_count": 34,
     "metadata": {},
     "output_type": "execute_result"
    }
   ],
   "source": [
    "newdf.to_numpy"
   ]
  },
  {
   "cell_type": "code",
   "execution_count": 35,
   "metadata": {},
   "outputs": [
    {
     "data": {
      "text/html": [
       "<div>\n",
       "<style scoped>\n",
       "    .dataframe tbody tr th:only-of-type {\n",
       "        vertical-align: middle;\n",
       "    }\n",
       "\n",
       "    .dataframe tbody tr th {\n",
       "        vertical-align: top;\n",
       "    }\n",
       "\n",
       "    .dataframe thead th {\n",
       "        text-align: right;\n",
       "    }\n",
       "</style>\n",
       "<table border=\"1\" class=\"dataframe\">\n",
       "  <thead>\n",
       "    <tr style=\"text-align: right;\">\n",
       "      <th></th>\n",
       "      <th>0</th>\n",
       "      <th>1</th>\n",
       "      <th>2</th>\n",
       "      <th>3</th>\n",
       "      <th>4</th>\n",
       "      <th>5</th>\n",
       "      <th>6</th>\n",
       "      <th>7</th>\n",
       "      <th>8</th>\n",
       "      <th>9</th>\n",
       "      <th>...</th>\n",
       "      <th>324</th>\n",
       "      <th>325</th>\n",
       "      <th>326</th>\n",
       "      <th>327</th>\n",
       "      <th>328</th>\n",
       "      <th>329</th>\n",
       "      <th>330</th>\n",
       "      <th>331</th>\n",
       "      <th>332</th>\n",
       "      <th>333</th>\n",
       "    </tr>\n",
       "  </thead>\n",
       "  <tbody>\n",
       "    <tr>\n",
       "      <th>0</th>\n",
       "      <td>34</td>\n",
       "      <td>0.073751</td>\n",
       "      <td>0.9947</td>\n",
       "      <td>0.084266</td>\n",
       "      <td>0.657389</td>\n",
       "      <td>0.613926</td>\n",
       "      <td>0.338483</td>\n",
       "      <td>0.628925</td>\n",
       "      <td>0.937134</td>\n",
       "      <td>0.388025</td>\n",
       "      <td>...</td>\n",
       "      <td>0.485939</td>\n",
       "      <td>0.787704</td>\n",
       "      <td>0.166227</td>\n",
       "      <td>0.753532</td>\n",
       "      <td>0.415118</td>\n",
       "      <td>0.988706</td>\n",
       "      <td>0.23506</td>\n",
       "      <td>0.19537</td>\n",
       "      <td>0.96138</td>\n",
       "      <td>0.458889</td>\n",
       "    </tr>\n",
       "    <tr>\n",
       "      <th>1</th>\n",
       "      <td>0.95135</td>\n",
       "      <td>0.759603</td>\n",
       "      <td>0.298295</td>\n",
       "      <td>0.069047</td>\n",
       "      <td>0.783852</td>\n",
       "      <td>0.252785</td>\n",
       "      <td>0.111537</td>\n",
       "      <td>0.411087</td>\n",
       "      <td>0.138183</td>\n",
       "      <td>0.434154</td>\n",
       "      <td>...</td>\n",
       "      <td>0.123478</td>\n",
       "      <td>0.793752</td>\n",
       "      <td>0.996087</td>\n",
       "      <td>0.020512</td>\n",
       "      <td>0.525204</td>\n",
       "      <td>0.767065</td>\n",
       "      <td>0.177765</td>\n",
       "      <td>0.058066</td>\n",
       "      <td>0.821895</td>\n",
       "      <td>0.710466</td>\n",
       "    </tr>\n",
       "    <tr>\n",
       "      <th>2</th>\n",
       "      <td>0.706825</td>\n",
       "      <td>0.679595</td>\n",
       "      <td>0.730374</td>\n",
       "      <td>0.094676</td>\n",
       "      <td>0.589908</td>\n",
       "      <td>0.642813</td>\n",
       "      <td>0.276358</td>\n",
       "      <td>0.83091</td>\n",
       "      <td>0.226755</td>\n",
       "      <td>0.423385</td>\n",
       "      <td>...</td>\n",
       "      <td>0.073197</td>\n",
       "      <td>0.09672</td>\n",
       "      <td>0.169402</td>\n",
       "      <td>0.273245</td>\n",
       "      <td>0.693094</td>\n",
       "      <td>0.297549</td>\n",
       "      <td>0.813673</td>\n",
       "      <td>0.546325</td>\n",
       "      <td>0.454688</td>\n",
       "      <td>0.839311</td>\n",
       "    </tr>\n",
       "    <tr>\n",
       "      <th>3</th>\n",
       "      <td>0.445517</td>\n",
       "      <td>0.262759</td>\n",
       "      <td>0.484977</td>\n",
       "      <td>0.625589</td>\n",
       "      <td>0.597883</td>\n",
       "      <td>0.873459</td>\n",
       "      <td>0.947654</td>\n",
       "      <td>0.951521</td>\n",
       "      <td>0.50379</td>\n",
       "      <td>0.245812</td>\n",
       "      <td>...</td>\n",
       "      <td>0.015202</td>\n",
       "      <td>0.77573</td>\n",
       "      <td>0.606681</td>\n",
       "      <td>0.711903</td>\n",
       "      <td>0.654463</td>\n",
       "      <td>0.282334</td>\n",
       "      <td>0.638255</td>\n",
       "      <td>0.269286</td>\n",
       "      <td>0.175915</td>\n",
       "      <td>0.779422</td>\n",
       "    </tr>\n",
       "    <tr>\n",
       "      <th>4</th>\n",
       "      <td>0.326447</td>\n",
       "      <td>0.665287</td>\n",
       "      <td>0.584885</td>\n",
       "      <td>0.116844</td>\n",
       "      <td>0.790147</td>\n",
       "      <td>0.498842</td>\n",
       "      <td>0.073556</td>\n",
       "      <td>0.327266</td>\n",
       "      <td>0.060249</td>\n",
       "      <td>0.307318</td>\n",
       "      <td>...</td>\n",
       "      <td>0.769313</td>\n",
       "      <td>0.529425</td>\n",
       "      <td>0.311973</td>\n",
       "      <td>0.334274</td>\n",
       "      <td>0.442566</td>\n",
       "      <td>0.881294</td>\n",
       "      <td>0.027898</td>\n",
       "      <td>0.672166</td>\n",
       "      <td>0.664354</td>\n",
       "      <td>0.782827</td>\n",
       "    </tr>\n",
       "  </tbody>\n",
       "</table>\n",
       "<p>5 rows × 334 columns</p>\n",
       "</div>"
      ],
      "text/plain": [
       "        0         1         2         3         4         5         6    \\\n",
       "0        34  0.073751    0.9947  0.084266  0.657389  0.613926  0.338483   \n",
       "1   0.95135  0.759603  0.298295  0.069047  0.783852  0.252785  0.111537   \n",
       "2  0.706825  0.679595  0.730374  0.094676  0.589908  0.642813  0.276358   \n",
       "3  0.445517  0.262759  0.484977  0.625589  0.597883  0.873459  0.947654   \n",
       "4  0.326447  0.665287  0.584885  0.116844  0.790147  0.498842  0.073556   \n",
       "\n",
       "        7         8         9    ...       324       325       326       327  \\\n",
       "0  0.628925  0.937134  0.388025  ...  0.485939  0.787704  0.166227  0.753532   \n",
       "1  0.411087  0.138183  0.434154  ...  0.123478  0.793752  0.996087  0.020512   \n",
       "2   0.83091  0.226755  0.423385  ...  0.073197   0.09672  0.169402  0.273245   \n",
       "3  0.951521   0.50379  0.245812  ...  0.015202   0.77573  0.606681  0.711903   \n",
       "4  0.327266  0.060249  0.307318  ...  0.769313  0.529425  0.311973  0.334274   \n",
       "\n",
       "        328       329       330       331       332       333  \n",
       "0  0.415118  0.988706   0.23506   0.19537   0.96138  0.458889  \n",
       "1  0.525204  0.767065  0.177765  0.058066  0.821895  0.710466  \n",
       "2  0.693094  0.297549  0.813673  0.546325  0.454688  0.839311  \n",
       "3  0.654463  0.282334  0.638255  0.269286  0.175915  0.779422  \n",
       "4  0.442566  0.881294  0.027898  0.672166  0.664354  0.782827  \n",
       "\n",
       "[5 rows x 334 columns]"
      ]
     },
     "execution_count": 35,
     "metadata": {},
     "output_type": "execute_result"
    }
   ],
   "source": [
    "newdf.T # Transpose the DataFrame"
   ]
  },
  {
   "cell_type": "code",
   "execution_count": 36,
   "metadata": {},
   "outputs": [
    {
     "data": {
      "text/html": [
       "<div>\n",
       "<style scoped>\n",
       "    .dataframe tbody tr th:only-of-type {\n",
       "        vertical-align: middle;\n",
       "    }\n",
       "\n",
       "    .dataframe tbody tr th {\n",
       "        vertical-align: top;\n",
       "    }\n",
       "\n",
       "    .dataframe thead th {\n",
       "        text-align: right;\n",
       "    }\n",
       "</style>\n",
       "<table border=\"1\" class=\"dataframe\">\n",
       "  <thead>\n",
       "    <tr style=\"text-align: right;\">\n",
       "      <th></th>\n",
       "      <th>0</th>\n",
       "      <th>1</th>\n",
       "      <th>2</th>\n",
       "      <th>3</th>\n",
       "      <th>4</th>\n",
       "    </tr>\n",
       "  </thead>\n",
       "  <tbody>\n",
       "    <tr>\n",
       "      <th>0</th>\n",
       "      <td>34</td>\n",
       "      <td>0.951350</td>\n",
       "      <td>0.706825</td>\n",
       "      <td>0.445517</td>\n",
       "      <td>0.326447</td>\n",
       "    </tr>\n",
       "    <tr>\n",
       "      <th>1</th>\n",
       "      <td>0.073751</td>\n",
       "      <td>0.759603</td>\n",
       "      <td>0.679595</td>\n",
       "      <td>0.262759</td>\n",
       "      <td>0.665287</td>\n",
       "    </tr>\n",
       "    <tr>\n",
       "      <th>2</th>\n",
       "      <td>0.9947</td>\n",
       "      <td>0.298295</td>\n",
       "      <td>0.730374</td>\n",
       "      <td>0.484977</td>\n",
       "      <td>0.584885</td>\n",
       "    </tr>\n",
       "    <tr>\n",
       "      <th>3</th>\n",
       "      <td>0.084266</td>\n",
       "      <td>0.069047</td>\n",
       "      <td>0.094676</td>\n",
       "      <td>0.625589</td>\n",
       "      <td>0.116844</td>\n",
       "    </tr>\n",
       "    <tr>\n",
       "      <th>4</th>\n",
       "      <td>0.657389</td>\n",
       "      <td>0.783852</td>\n",
       "      <td>0.589908</td>\n",
       "      <td>0.597883</td>\n",
       "      <td>0.790147</td>\n",
       "    </tr>\n",
       "  </tbody>\n",
       "</table>\n",
       "</div>"
      ],
      "text/plain": [
       "          0         1         2         3         4\n",
       "0        34  0.951350  0.706825  0.445517  0.326447\n",
       "1  0.073751  0.759603  0.679595  0.262759  0.665287\n",
       "2    0.9947  0.298295  0.730374  0.484977  0.584885\n",
       "3  0.084266  0.069047  0.094676  0.625589  0.116844\n",
       "4  0.657389  0.783852  0.589908  0.597883  0.790147"
      ]
     },
     "execution_count": 36,
     "metadata": {},
     "output_type": "execute_result"
    }
   ],
   "source": [
    "newdf.head() # Display the first rows"
   ]
  },
  {
   "cell_type": "code",
   "execution_count": 37,
   "metadata": {},
   "outputs": [
    {
     "data": {
      "text/html": [
       "<div>\n",
       "<style scoped>\n",
       "    .dataframe tbody tr th:only-of-type {\n",
       "        vertical-align: middle;\n",
       "    }\n",
       "\n",
       "    .dataframe tbody tr th {\n",
       "        vertical-align: top;\n",
       "    }\n",
       "\n",
       "    .dataframe thead th {\n",
       "        text-align: right;\n",
       "    }\n",
       "</style>\n",
       "<table border=\"1\" class=\"dataframe\">\n",
       "  <thead>\n",
       "    <tr style=\"text-align: right;\">\n",
       "      <th></th>\n",
       "      <th>4</th>\n",
       "      <th>3</th>\n",
       "      <th>2</th>\n",
       "      <th>1</th>\n",
       "      <th>0</th>\n",
       "    </tr>\n",
       "  </thead>\n",
       "  <tbody>\n",
       "    <tr>\n",
       "      <th>0</th>\n",
       "      <td>0.326447</td>\n",
       "      <td>0.445517</td>\n",
       "      <td>0.706825</td>\n",
       "      <td>0.951350</td>\n",
       "      <td>34</td>\n",
       "    </tr>\n",
       "    <tr>\n",
       "      <th>1</th>\n",
       "      <td>0.665287</td>\n",
       "      <td>0.262759</td>\n",
       "      <td>0.679595</td>\n",
       "      <td>0.759603</td>\n",
       "      <td>0.073751</td>\n",
       "    </tr>\n",
       "    <tr>\n",
       "      <th>2</th>\n",
       "      <td>0.584885</td>\n",
       "      <td>0.484977</td>\n",
       "      <td>0.730374</td>\n",
       "      <td>0.298295</td>\n",
       "      <td>0.9947</td>\n",
       "    </tr>\n",
       "    <tr>\n",
       "      <th>3</th>\n",
       "      <td>0.116844</td>\n",
       "      <td>0.625589</td>\n",
       "      <td>0.094676</td>\n",
       "      <td>0.069047</td>\n",
       "      <td>0.084266</td>\n",
       "    </tr>\n",
       "    <tr>\n",
       "      <th>4</th>\n",
       "      <td>0.790147</td>\n",
       "      <td>0.597883</td>\n",
       "      <td>0.589908</td>\n",
       "      <td>0.783852</td>\n",
       "      <td>0.657389</td>\n",
       "    </tr>\n",
       "    <tr>\n",
       "      <th>...</th>\n",
       "      <td>...</td>\n",
       "      <td>...</td>\n",
       "      <td>...</td>\n",
       "      <td>...</td>\n",
       "      <td>...</td>\n",
       "    </tr>\n",
       "    <tr>\n",
       "      <th>329</th>\n",
       "      <td>0.881294</td>\n",
       "      <td>0.282334</td>\n",
       "      <td>0.297549</td>\n",
       "      <td>0.767065</td>\n",
       "      <td>0.988706</td>\n",
       "    </tr>\n",
       "    <tr>\n",
       "      <th>330</th>\n",
       "      <td>0.027898</td>\n",
       "      <td>0.638255</td>\n",
       "      <td>0.813673</td>\n",
       "      <td>0.177765</td>\n",
       "      <td>0.23506</td>\n",
       "    </tr>\n",
       "    <tr>\n",
       "      <th>331</th>\n",
       "      <td>0.672166</td>\n",
       "      <td>0.269286</td>\n",
       "      <td>0.546325</td>\n",
       "      <td>0.058066</td>\n",
       "      <td>0.19537</td>\n",
       "    </tr>\n",
       "    <tr>\n",
       "      <th>332</th>\n",
       "      <td>0.664354</td>\n",
       "      <td>0.175915</td>\n",
       "      <td>0.454688</td>\n",
       "      <td>0.821895</td>\n",
       "      <td>0.96138</td>\n",
       "    </tr>\n",
       "    <tr>\n",
       "      <th>333</th>\n",
       "      <td>0.782827</td>\n",
       "      <td>0.779422</td>\n",
       "      <td>0.839311</td>\n",
       "      <td>0.710466</td>\n",
       "      <td>0.458889</td>\n",
       "    </tr>\n",
       "  </tbody>\n",
       "</table>\n",
       "<p>334 rows × 5 columns</p>\n",
       "</div>"
      ],
      "text/plain": [
       "            4         3         2         1         0\n",
       "0    0.326447  0.445517  0.706825  0.951350        34\n",
       "1    0.665287  0.262759  0.679595  0.759603  0.073751\n",
       "2    0.584885  0.484977  0.730374  0.298295    0.9947\n",
       "3    0.116844  0.625589  0.094676  0.069047  0.084266\n",
       "4    0.790147  0.597883  0.589908  0.783852  0.657389\n",
       "..        ...       ...       ...       ...       ...\n",
       "329  0.881294  0.282334  0.297549  0.767065  0.988706\n",
       "330  0.027898  0.638255  0.813673  0.177765   0.23506\n",
       "331  0.672166  0.269286  0.546325  0.058066   0.19537\n",
       "332  0.664354  0.175915  0.454688  0.821895   0.96138\n",
       "333  0.782827  0.779422  0.839311  0.710466  0.458889\n",
       "\n",
       "[334 rows x 5 columns]"
      ]
     },
     "execution_count": 37,
     "metadata": {},
     "output_type": "execute_result"
    }
   ],
   "source": [
    "newdf.sort_index(axis=1, ascending=False) # Sort the DataFrame by index (axis=1 is column and azis=0 is row)"
   ]
  },
  {
   "cell_type": "code",
   "execution_count": 38,
   "metadata": {},
   "outputs": [
    {
     "data": {
      "text/html": [
       "<div>\n",
       "<style scoped>\n",
       "    .dataframe tbody tr th:only-of-type {\n",
       "        vertical-align: middle;\n",
       "    }\n",
       "\n",
       "    .dataframe tbody tr th {\n",
       "        vertical-align: top;\n",
       "    }\n",
       "\n",
       "    .dataframe thead th {\n",
       "        text-align: right;\n",
       "    }\n",
       "</style>\n",
       "<table border=\"1\" class=\"dataframe\">\n",
       "  <thead>\n",
       "    <tr style=\"text-align: right;\">\n",
       "      <th></th>\n",
       "      <th>0</th>\n",
       "      <th>1</th>\n",
       "      <th>2</th>\n",
       "      <th>3</th>\n",
       "      <th>4</th>\n",
       "    </tr>\n",
       "  </thead>\n",
       "  <tbody>\n",
       "    <tr>\n",
       "      <th>0</th>\n",
       "      <td>34</td>\n",
       "      <td>0.951350</td>\n",
       "      <td>0.706825</td>\n",
       "      <td>0.445517</td>\n",
       "      <td>0.326447</td>\n",
       "    </tr>\n",
       "    <tr>\n",
       "      <th>1</th>\n",
       "      <td>0.073751</td>\n",
       "      <td>0.759603</td>\n",
       "      <td>0.679595</td>\n",
       "      <td>0.262759</td>\n",
       "      <td>0.665287</td>\n",
       "    </tr>\n",
       "    <tr>\n",
       "      <th>2</th>\n",
       "      <td>0.9947</td>\n",
       "      <td>0.298295</td>\n",
       "      <td>0.730374</td>\n",
       "      <td>0.484977</td>\n",
       "      <td>0.584885</td>\n",
       "    </tr>\n",
       "    <tr>\n",
       "      <th>3</th>\n",
       "      <td>0.084266</td>\n",
       "      <td>0.069047</td>\n",
       "      <td>0.094676</td>\n",
       "      <td>0.625589</td>\n",
       "      <td>0.116844</td>\n",
       "    </tr>\n",
       "    <tr>\n",
       "      <th>4</th>\n",
       "      <td>0.657389</td>\n",
       "      <td>0.783852</td>\n",
       "      <td>0.589908</td>\n",
       "      <td>0.597883</td>\n",
       "      <td>0.790147</td>\n",
       "    </tr>\n",
       "  </tbody>\n",
       "</table>\n",
       "</div>"
      ],
      "text/plain": [
       "          0         1         2         3         4\n",
       "0        34  0.951350  0.706825  0.445517  0.326447\n",
       "1  0.073751  0.759603  0.679595  0.262759  0.665287\n",
       "2    0.9947  0.298295  0.730374  0.484977  0.584885\n",
       "3  0.084266  0.069047  0.094676  0.625589  0.116844\n",
       "4  0.657389  0.783852  0.589908  0.597883  0.790147"
      ]
     },
     "execution_count": 38,
     "metadata": {},
     "output_type": "execute_result"
    }
   ],
   "source": [
    "newdf.head() # Display the first rows"
   ]
  },
  {
   "cell_type": "code",
   "execution_count": 39,
   "metadata": {},
   "outputs": [
    {
     "data": {
      "text/plain": [
       "0            34\n",
       "1      0.073751\n",
       "2        0.9947\n",
       "3      0.084266\n",
       "4      0.657389\n",
       "         ...   \n",
       "329    0.988706\n",
       "330     0.23506\n",
       "331     0.19537\n",
       "332     0.96138\n",
       "333    0.458889\n",
       "Name: 0, Length: 334, dtype: object"
      ]
     },
     "execution_count": 39,
     "metadata": {},
     "output_type": "execute_result"
    }
   ],
   "source": [
    "newdf[0]"
   ]
  },
  {
   "cell_type": "code",
   "execution_count": 40,
   "metadata": {},
   "outputs": [
    {
     "data": {
      "text/plain": [
       "pandas.core.series.Series"
      ]
     },
     "execution_count": 40,
     "metadata": {},
     "output_type": "execute_result"
    }
   ],
   "source": [
    "type(newdf[0]) # Display the type of the column"
   ]
  },
  {
   "cell_type": "code",
   "execution_count": null,
   "metadata": {},
   "outputs": [],
   "source": []
  }
 ],
 "metadata": {
  "kernelspec": {
   "display_name": "Python 3",
   "language": "python",
   "name": "python3"
  },
  "language_info": {
   "codemirror_mode": {
    "name": "ipython",
    "version": 3
   },
   "file_extension": ".py",
   "mimetype": "text/x-python",
   "name": "python",
   "nbconvert_exporter": "python",
   "pygments_lexer": "ipython3",
   "version": "3.13.3"
  }
 },
 "nbformat": 4,
 "nbformat_minor": 2
}
